{
 "cells": [
  {
   "cell_type": "markdown",
   "metadata": {},
   "source": [
    "# Importando as bibliotecas"
   ]
  },
  {
   "cell_type": "code",
   "execution_count": 21,
   "metadata": {},
   "outputs": [],
   "source": [
    "from sklearn.neural_network import MLPClassifier\n",
    "from sklearn.model_selection import GridSearchCV\n",
    "from sklearn import metrics\n",
    "from sklearn.metrics import confusion_matrix\n",
    "import pandas as pd\n",
    "import numpy as np\n",
    "from collections import Counter\n",
    "import os\n",
    "import sys\n",
    "sys.path.insert(0, os.path.abspath('../Util'))\n",
    "from dados import ProcessarDados\n",
    "import time"
   ]
  },
  {
   "cell_type": "markdown",
   "metadata": {},
   "source": [
    "# Dataset"
   ]
  },
  {
   "cell_type": "code",
   "execution_count": 54,
   "metadata": {},
   "outputs": [],
   "source": [
    "procData = ProcessarDados(\"../dataset/bin_norm_10_features_m73_n4.csv\", sep = ',')"
   ]
  },
  {
   "cell_type": "markdown",
   "metadata": {},
   "source": [
    "# Funções"
   ]
  },
  {
   "cell_type": "code",
   "execution_count": 65,
   "metadata": {},
   "outputs": [],
   "source": [
    "# funcção que treina e testa o modelo armazenando as métricas\n",
    "# retorna um dicionário cotendo os valores das métricas de cada rodada\n",
    "def treinamento_teste(epocas = 10, k_folds = 5, exibir_matriz_confusao=False, exibir_metricas=False):\n",
    "    \n",
    "    #array para armazenar as das métricas de cada rodada\n",
    "    resultados_accuracy = []\n",
    "    resultados_precision = []\n",
    "    resultados_recall = []\n",
    "    resultados_specificity = [] # taxa de verdadeiros negativos ou especificidade\n",
    "    resultados_f2 = []\n",
    "    resultados_parametros = []\n",
    "    resultados_time_train = []\n",
    "    resultados_time_test = []\n",
    "    resultados_time_total = []\n",
    "    \n",
    "    #dicionário das métricas\n",
    "    resultados_gerais = {}\n",
    "    \n",
    "    max_iter = 400\n",
    "\n",
    "    for i in range(epocas):\n",
    "        # divisão os dados \n",
    "        seed = i\n",
    "        X_train, X_test, y_train, y_test = procData.holdout2(0.2, seed)\n",
    "        #print(Counter(y_test))\n",
    "\n",
    "        # realizando o grid search para encontrar a melhor combinação de parametros, \n",
    "        # considerando a acurácia (taxa de acerto)\n",
    "        # aqui o método GridSearchCV é configurado para subdividir os dados de treino em k_folds\n",
    "        \n",
    "        \n",
    "        clf = MLPClassifier(random_state = seed)\n",
    "        grid_mlp = GridSearchCV(clf, param_grid, cv=k_folds, scoring='accuracy', verbose=0, n_jobs=-1)\n",
    "        \n",
    "        start_time_train = time.clock()\n",
    "        grid_mlp.fit(X_train, y_train)\n",
    "\n",
    "        # Treinando do modelo com os melhores parametros encontrados\n",
    "        activation_best = grid_mlp.best_estimator_.activation\n",
    "        alpha_best = grid_mlp.best_estimator_.alpha\n",
    "        solver_best = grid_mlp.best_estimator_.solver\n",
    "        hidden_layer_size_best = grid_mlp.best_estimator_.hidden_layer_sizes\n",
    "\n",
    "        MLP = MLPClassifier(random_state = seed, activation = activation_best, alpha = alpha_best, solver = solver_best, hidden_layer_sizes = hidden_layer_size_best, max_iter = max_iter)\n",
    "        MLP.fit(X_train, y_train)\n",
    "        \n",
    "        time_train = time.clock() - start_time_train\n",
    "\n",
    "        #testando o modelo\n",
    "        start_time_test = time.clock()\n",
    "        y_pred = MLP.predict(X_test)\n",
    "        time_test = time.clock() - start_time_test\n",
    "        cm  = confusion_matrix(y_test, y_pred)\n",
    "        if exibir_matriz_confusao:\n",
    "            print(cm)\n",
    "\n",
    "        # calculado as metricas\n",
    "        accuracy = metrics.accuracy_score(y_test, y_pred)\n",
    "        precision = metrics.precision_score(y_test, y_pred)\n",
    "        recall = metrics.recall_score(y_test, y_pred)\n",
    "        # f2-score\n",
    "        # Fbeta = ((1 + beta^2) * Precision * Recall) / (beta^2 * Precision + Recall)\n",
    "        beta = 0.5\n",
    "        f2_score = (1 + beta**2) * (precision * recall) / (beta**2 * precision + recall)\n",
    "        tn, fp, fn, tp = cm.ravel()\n",
    "        specificity = tn / (tn+fp)\n",
    "\n",
    "        # armazenando as métricas\n",
    "        resultados_accuracy.append(accuracy)\n",
    "        resultados_precision.append(precision)\n",
    "        resultados_recall.append(recall)\n",
    "        resultados_specificity.append(specificity)\n",
    "        resultados_f2.append(f2_score)\n",
    "\n",
    "        best_parametros = {'Activation': activation_best, 'Alpha': alpha_best, 'Solver': solver_best ,'hidden_layer_sizes': hidden_layer_size_best};\n",
    "        resultados_parametros.append(best_parametros)\n",
    "        \n",
    "        resultados_time_train.append(time_train)\n",
    "        resultados_time_test.append(time_test) \n",
    "        resultados_time_total.append(time_train+time_test)\n",
    "\n",
    "\n",
    "        if exibir_metricas:\n",
    "            print(\"Rodada: #\",i)\n",
    "            print(best_parametros)\n",
    "            print(\"Accuracy:\",accuracy)\n",
    "            print(\"Precision:\",precision)\n",
    "            print(\"Recall:\",recall)\n",
    "            print(\"Specificity:\",specificity)\n",
    "            print(\"f2-Score:\",f2_score)\n",
    "            print(\"Time Train (s):\",time_train)\n",
    "            print(\"Time Test (s):\",time_test)\n",
    "            print(\"Time Total (s):\",time_train+time_test)\n",
    "            print(\"\\n\")\n",
    "\n",
    "            \n",
    "    resultados_gerais['accuracy'] = resultados_accuracy\n",
    "    resultados_gerais['precision'] = resultados_precision\n",
    "    resultados_gerais['recall'] = resultados_recall\n",
    "    resultados_gerais['specificity'] = resultados_specificity\n",
    "    resultados_gerais['f2'] = resultados_f2\n",
    "    resultados_gerais['params'] = resultados_parametros\n",
    "    resultados_gerais['time_train'] = resultados_time_train\n",
    "    resultados_gerais['time_test'] = resultados_time_test\n",
    "    resultados_gerais['time_total'] = resultados_time_total\n",
    "    \n",
    "    return resultados_gerais"
   ]
  },
  {
   "cell_type": "code",
   "execution_count": 66,
   "metadata": {},
   "outputs": [],
   "source": [
    "import csv\n",
    "def writeResultsCsv(dict_results, name_file):\n",
    "    keys = list(dict_results.keys())\n",
    "    keys.insert(0,'Rodada')\n",
    "    with open(name_file, 'w') as f:  # You will need 'wb' mode in Python 2.x\n",
    "        w = csv.writer(f)\n",
    "        #w.writeheader()\n",
    "        row = []\n",
    "        w.writerow(keys)\n",
    "        for i in range(epocas):\n",
    "            row = []\n",
    "            acc = dict_results.get('accuracy')[i]\n",
    "            prec = dict_results.get('precision')[i]\n",
    "            sen = dict_results.get('recall')[i]\n",
    "            spe = dict_results.get('specificity')[i]\n",
    "            fscore = dict_results.get('f2')[i]\n",
    "            param = dict_results.get('params')[i]\n",
    "            time_train = dict_results.get('time_train')[i]\n",
    "            time_test = dict_results.get('time_test')[i]\n",
    "            time_total = dict_results.get('time_total')[i]\n",
    "\n",
    "            row.append(i+1)\n",
    "            row.append(acc)\n",
    "            row.append(prec)\n",
    "            row.append(sen)\n",
    "            row.append(spe)\n",
    "            row.append(fscore)\n",
    "            row.append(param)\n",
    "            row.append(time_train)\n",
    "            row.append(time_test)\n",
    "            row.append(time_total)\n",
    "\n",
    "            w.writerow(row)\n",
    "    "
   ]
  },
  {
   "cell_type": "code",
   "execution_count": 67,
   "metadata": {},
   "outputs": [],
   "source": [
    "def tabelaMetricas(nome_modelo, dict_metricas, rodadas=False, salvarResultados=True):\n",
    "        \n",
    "    print (\"============================================== \"+nome_modelo+\" =================================================\")\n",
    "    print (\"=================================== TABELA DE MÉTRICAS DO MODELO ===================================\")\n",
    "    \n",
    "    if(rodadas==False):\n",
    "        print (\"\\t Accuracy \\t|\\t Precision \\t|\\t Recall \\t|\\tSpecificity \\t|\\t fb-Score\")\n",
    "        print (\"      %.4f +- %.4f\" % (np.mean(dict_metricas['accuracy'], axis=0), np.std(dict_metricas['accuracy'], axis=0)),end=' ')\n",
    "        print (\"      %.4f +- %.4f\" % (np.mean(dict_metricas['precision'], axis=0), np.std(dict_metricas['precision'], axis=0)),end='  ')\n",
    "        print (\"      %.4f +- %.4f\" % (np.mean(dict_metricas['recall'], axis=0), np.std(dict_metricas['recall'], axis=0)),end=' ')\n",
    "        print (\"      %.4f +- %.4f\" % (np.mean(dict_metricas['specificity'], axis=0), np.std(dict_metricas['specificity'], axis=0)),end='   ')\n",
    "        print (\"      %.4f +- %.4f\" % (np.mean(dict_metricas['f2'], axis=0), np.std(dict_metricas['f2'], axis=0)))\n",
    "        print (\"====================================================================================================\")\n",
    "        \n",
    "    if(salvarResultados):\n",
    "        # save to npy file\n",
    "        np.save('../resultados/resultados_'+nome_modelo+'.npy', dict_metricas)\n",
    "        writeResultsCsv(dict_metricas, 'resultados_mlp.csv')"
   ]
  },
  {
   "cell_type": "markdown",
   "metadata": {},
   "source": [
    "# Definindo os parâmetros"
   ]
  },
  {
   "cell_type": "code",
   "execution_count": 68,
   "metadata": {},
   "outputs": [],
   "source": [
    "activations = ['relu']\n",
    "alphas = 10.0 ** -np.arange(1, 4)\n",
    "solvers = ['lbfgs']\n",
    "hidden_layer_sizes = [100, 150, 200]\n",
    "param_grid = {'hidden_layer_sizes': hidden_layer_sizes, 'activation' : activations, 'alpha': alphas, 'solver': solvers}\n",
    "\n",
    "epocas = 50\n",
    "k_folds = 5\n",
    "exibir_matriz_confusao = True\n",
    "exibir_metricas = True\n",
    "salvarResultados = True\n",
    "rodadas=False"
   ]
  },
  {
   "cell_type": "markdown",
   "metadata": {},
   "source": [
    "# Treinando e obtendo as métricas do modelo"
   ]
  },
  {
   "cell_type": "code",
   "execution_count": 69,
   "metadata": {},
   "outputs": [
    {
     "name": "stdout",
     "output_type": "stream",
     "text": [
      "[[18  2]\n",
      " [ 4 46]]\n",
      "Rodada: # 0\n",
      "{'Activation': 'relu', 'Alpha': 0.001, 'Solver': 'lbfgs', 'hidden_layer_sizes': 150}\n",
      "Accuracy: 0.9142857142857143\n",
      "Precision: 0.9583333333333334\n",
      "Recall: 0.92\n",
      "Specificity: 0.9\n",
      "f2-Score: 0.9504132231404958\n",
      "Time Train (s): 14.628867999999784\n",
      "Time Test (s): 0.0005373999993025791\n",
      "Time Total (s): 14.629405399999087\n",
      "\n",
      "\n"
     ]
    },
    {
     "name": "stderr",
     "output_type": "stream",
     "text": [
      "C:\\Users\\fadell\\AppData\\Roaming\\Python\\Python36\\site-packages\\sklearn\\neural_network\\_multilayer_perceptron.py:500: ConvergenceWarning: lbfgs failed to converge (status=1):\n",
      "STOP: TOTAL NO. of ITERATIONS REACHED LIMIT.\n",
      "\n",
      "Increase the number of iterations (max_iter) or scale the data as shown in:\n",
      "    https://scikit-learn.org/stable/modules/preprocessing.html\n",
      "  self.n_iter_ = _check_optimize_result(\"lbfgs\", opt_res, self.max_iter)\n",
      "C:\\Users\\fadell\\AppData\\Roaming\\Python\\Python36\\site-packages\\sklearn\\neural_network\\_multilayer_perceptron.py:500: ConvergenceWarning: lbfgs failed to converge (status=1):\n",
      "STOP: TOTAL NO. of ITERATIONS REACHED LIMIT.\n",
      "\n",
      "Increase the number of iterations (max_iter) or scale the data as shown in:\n",
      "    https://scikit-learn.org/stable/modules/preprocessing.html\n",
      "  self.n_iter_ = _check_optimize_result(\"lbfgs\", opt_res, self.max_iter)\n"
     ]
    },
    {
     "name": "stdout",
     "output_type": "stream",
     "text": [
      "[[18  2]\n",
      " [ 2 48]]\n",
      "Rodada: # 1\n",
      "{'Activation': 'relu', 'Alpha': 0.01, 'Solver': 'lbfgs', 'hidden_layer_sizes': 150}\n",
      "Accuracy: 0.9428571428571428\n",
      "Precision: 0.96\n",
      "Recall: 0.96\n",
      "Specificity: 0.9\n",
      "f2-Score: 0.96\n",
      "Time Train (s): 11.630499499999132\n",
      "Time Test (s): 0.0008550000020477455\n",
      "Time Total (s): 11.63135450000118\n",
      "\n",
      "\n"
     ]
    },
    {
     "name": "stderr",
     "output_type": "stream",
     "text": [
      "C:\\Users\\fadell\\AppData\\Roaming\\Python\\Python36\\site-packages\\sklearn\\neural_network\\_multilayer_perceptron.py:500: ConvergenceWarning: lbfgs failed to converge (status=1):\n",
      "STOP: TOTAL NO. of ITERATIONS REACHED LIMIT.\n",
      "\n",
      "Increase the number of iterations (max_iter) or scale the data as shown in:\n",
      "    https://scikit-learn.org/stable/modules/preprocessing.html\n",
      "  self.n_iter_ = _check_optimize_result(\"lbfgs\", opt_res, self.max_iter)\n",
      "C:\\Users\\fadell\\AppData\\Roaming\\Python\\Python36\\site-packages\\sklearn\\neural_network\\_multilayer_perceptron.py:500: ConvergenceWarning: lbfgs failed to converge (status=1):\n",
      "STOP: TOTAL NO. of ITERATIONS REACHED LIMIT.\n",
      "\n",
      "Increase the number of iterations (max_iter) or scale the data as shown in:\n",
      "    https://scikit-learn.org/stable/modules/preprocessing.html\n",
      "  self.n_iter_ = _check_optimize_result(\"lbfgs\", opt_res, self.max_iter)\n"
     ]
    },
    {
     "name": "stdout",
     "output_type": "stream",
     "text": [
      "[[16  4]\n",
      " [ 1 49]]\n",
      "Rodada: # 2\n",
      "{'Activation': 'relu', 'Alpha': 0.1, 'Solver': 'lbfgs', 'hidden_layer_sizes': 150}\n",
      "Accuracy: 0.9285714285714286\n",
      "Precision: 0.9245283018867925\n",
      "Recall: 0.98\n",
      "Specificity: 0.8\n",
      "f2-Score: 0.935114503816794\n",
      "Time Train (s): 8.91874960000132\n",
      "Time Test (s): 0.0007493999983125832\n",
      "Time Total (s): 8.919498999999632\n",
      "\n",
      "\n"
     ]
    },
    {
     "name": "stderr",
     "output_type": "stream",
     "text": [
      "C:\\Users\\fadell\\AppData\\Roaming\\Python\\Python36\\site-packages\\sklearn\\neural_network\\_multilayer_perceptron.py:500: ConvergenceWarning: lbfgs failed to converge (status=1):\n",
      "STOP: TOTAL NO. of ITERATIONS REACHED LIMIT.\n",
      "\n",
      "Increase the number of iterations (max_iter) or scale the data as shown in:\n",
      "    https://scikit-learn.org/stable/modules/preprocessing.html\n",
      "  self.n_iter_ = _check_optimize_result(\"lbfgs\", opt_res, self.max_iter)\n",
      "C:\\Users\\fadell\\AppData\\Roaming\\Python\\Python36\\site-packages\\sklearn\\neural_network\\_multilayer_perceptron.py:500: ConvergenceWarning: lbfgs failed to converge (status=1):\n",
      "STOP: TOTAL NO. of ITERATIONS REACHED LIMIT.\n",
      "\n",
      "Increase the number of iterations (max_iter) or scale the data as shown in:\n",
      "    https://scikit-learn.org/stable/modules/preprocessing.html\n",
      "  self.n_iter_ = _check_optimize_result(\"lbfgs\", opt_res, self.max_iter)\n"
     ]
    },
    {
     "name": "stdout",
     "output_type": "stream",
     "text": [
      "[[19  1]\n",
      " [ 4 46]]\n",
      "Rodada: # 3\n",
      "{'Activation': 'relu', 'Alpha': 0.1, 'Solver': 'lbfgs', 'hidden_layer_sizes': 150}\n",
      "Accuracy: 0.9285714285714286\n",
      "Precision: 0.9787234042553191\n",
      "Recall: 0.92\n",
      "Specificity: 0.95\n",
      "f2-Score: 0.9663865546218486\n",
      "Time Train (s): 8.417723000002297\n",
      "Time Test (s): 0.0007941000003484078\n",
      "Time Total (s): 8.418517100002646\n",
      "\n",
      "\n"
     ]
    },
    {
     "name": "stderr",
     "output_type": "stream",
     "text": [
      "C:\\Users\\fadell\\AppData\\Roaming\\Python\\Python36\\site-packages\\sklearn\\neural_network\\_multilayer_perceptron.py:500: ConvergenceWarning: lbfgs failed to converge (status=1):\n",
      "STOP: TOTAL NO. of ITERATIONS REACHED LIMIT.\n",
      "\n",
      "Increase the number of iterations (max_iter) or scale the data as shown in:\n",
      "    https://scikit-learn.org/stable/modules/preprocessing.html\n",
      "  self.n_iter_ = _check_optimize_result(\"lbfgs\", opt_res, self.max_iter)\n",
      "C:\\Users\\fadell\\AppData\\Roaming\\Python\\Python36\\site-packages\\sklearn\\neural_network\\_multilayer_perceptron.py:500: ConvergenceWarning: lbfgs failed to converge (status=1):\n",
      "STOP: TOTAL NO. of ITERATIONS REACHED LIMIT.\n",
      "\n",
      "Increase the number of iterations (max_iter) or scale the data as shown in:\n",
      "    https://scikit-learn.org/stable/modules/preprocessing.html\n",
      "  self.n_iter_ = _check_optimize_result(\"lbfgs\", opt_res, self.max_iter)\n"
     ]
    },
    {
     "name": "stdout",
     "output_type": "stream",
     "text": [
      "[[18  2]\n",
      " [ 7 43]]\n",
      "Rodada: # 4\n",
      "{'Activation': 'relu', 'Alpha': 0.1, 'Solver': 'lbfgs', 'hidden_layer_sizes': 150}\n",
      "Accuracy: 0.8714285714285714\n",
      "Precision: 0.9555555555555556\n",
      "Recall: 0.86\n",
      "Specificity: 0.9\n",
      "f2-Score: 0.9347826086956523\n",
      "Time Train (s): 7.650639699997555\n",
      "Time Test (s): 0.0006892999990668613\n",
      "Time Total (s): 7.651328999996622\n",
      "\n",
      "\n"
     ]
    },
    {
     "name": "stderr",
     "output_type": "stream",
     "text": [
      "C:\\Users\\fadell\\AppData\\Roaming\\Python\\Python36\\site-packages\\sklearn\\neural_network\\_multilayer_perceptron.py:500: ConvergenceWarning: lbfgs failed to converge (status=1):\n",
      "STOP: TOTAL NO. of ITERATIONS REACHED LIMIT.\n",
      "\n",
      "Increase the number of iterations (max_iter) or scale the data as shown in:\n",
      "    https://scikit-learn.org/stable/modules/preprocessing.html\n",
      "  self.n_iter_ = _check_optimize_result(\"lbfgs\", opt_res, self.max_iter)\n",
      "C:\\Users\\fadell\\AppData\\Roaming\\Python\\Python36\\site-packages\\sklearn\\neural_network\\_multilayer_perceptron.py:500: ConvergenceWarning: lbfgs failed to converge (status=1):\n",
      "STOP: TOTAL NO. of ITERATIONS REACHED LIMIT.\n",
      "\n",
      "Increase the number of iterations (max_iter) or scale the data as shown in:\n",
      "    https://scikit-learn.org/stable/modules/preprocessing.html\n",
      "  self.n_iter_ = _check_optimize_result(\"lbfgs\", opt_res, self.max_iter)\n"
     ]
    },
    {
     "name": "stdout",
     "output_type": "stream",
     "text": [
      "[[16  4]\n",
      " [ 6 44]]\n",
      "Rodada: # 5\n",
      "{'Activation': 'relu', 'Alpha': 0.1, 'Solver': 'lbfgs', 'hidden_layer_sizes': 150}\n",
      "Accuracy: 0.8571428571428571\n",
      "Precision: 0.9166666666666666\n",
      "Recall: 0.88\n",
      "Specificity: 0.8\n",
      "f2-Score: 0.9090909090909091\n",
      "Time Train (s): 8.044588400000066\n",
      "Time Test (s): 0.0008228000006056391\n",
      "Time Total (s): 8.045411200000672\n",
      "\n",
      "\n"
     ]
    },
    {
     "name": "stderr",
     "output_type": "stream",
     "text": [
      "C:\\Users\\fadell\\AppData\\Roaming\\Python\\Python36\\site-packages\\sklearn\\neural_network\\_multilayer_perceptron.py:500: ConvergenceWarning: lbfgs failed to converge (status=1):\n",
      "STOP: TOTAL NO. of ITERATIONS REACHED LIMIT.\n",
      "\n",
      "Increase the number of iterations (max_iter) or scale the data as shown in:\n",
      "    https://scikit-learn.org/stable/modules/preprocessing.html\n",
      "  self.n_iter_ = _check_optimize_result(\"lbfgs\", opt_res, self.max_iter)\n",
      "C:\\Users\\fadell\\AppData\\Roaming\\Python\\Python36\\site-packages\\sklearn\\neural_network\\_multilayer_perceptron.py:500: ConvergenceWarning: lbfgs failed to converge (status=1):\n",
      "STOP: TOTAL NO. of ITERATIONS REACHED LIMIT.\n",
      "\n",
      "Increase the number of iterations (max_iter) or scale the data as shown in:\n",
      "    https://scikit-learn.org/stable/modules/preprocessing.html\n",
      "  self.n_iter_ = _check_optimize_result(\"lbfgs\", opt_res, self.max_iter)\n"
     ]
    },
    {
     "name": "stdout",
     "output_type": "stream",
     "text": [
      "[[19  1]\n",
      " [ 0 50]]\n",
      "Rodada: # 6\n",
      "{'Activation': 'relu', 'Alpha': 0.1, 'Solver': 'lbfgs', 'hidden_layer_sizes': 150}\n",
      "Accuracy: 0.9857142857142858\n",
      "Precision: 0.9803921568627451\n",
      "Recall: 1.0\n",
      "Specificity: 0.95\n",
      "f2-Score: 0.9842519685039369\n",
      "Time Train (s): 8.584265699999378\n",
      "Time Test (s): 0.0007142000031308271\n",
      "Time Total (s): 8.584979900002509\n",
      "\n",
      "\n"
     ]
    },
    {
     "name": "stderr",
     "output_type": "stream",
     "text": [
      "C:\\Users\\fadell\\AppData\\Roaming\\Python\\Python36\\site-packages\\sklearn\\neural_network\\_multilayer_perceptron.py:500: ConvergenceWarning: lbfgs failed to converge (status=1):\n",
      "STOP: TOTAL NO. of ITERATIONS REACHED LIMIT.\n",
      "\n",
      "Increase the number of iterations (max_iter) or scale the data as shown in:\n",
      "    https://scikit-learn.org/stable/modules/preprocessing.html\n",
      "  self.n_iter_ = _check_optimize_result(\"lbfgs\", opt_res, self.max_iter)\n",
      "C:\\Users\\fadell\\AppData\\Roaming\\Python\\Python36\\site-packages\\sklearn\\neural_network\\_multilayer_perceptron.py:500: ConvergenceWarning: lbfgs failed to converge (status=1):\n",
      "STOP: TOTAL NO. of ITERATIONS REACHED LIMIT.\n",
      "\n",
      "Increase the number of iterations (max_iter) or scale the data as shown in:\n",
      "    https://scikit-learn.org/stable/modules/preprocessing.html\n",
      "  self.n_iter_ = _check_optimize_result(\"lbfgs\", opt_res, self.max_iter)\n"
     ]
    },
    {
     "name": "stdout",
     "output_type": "stream",
     "text": [
      "[[17  3]\n",
      " [ 4 46]]\n",
      "Rodada: # 7\n",
      "{'Activation': 'relu', 'Alpha': 0.1, 'Solver': 'lbfgs', 'hidden_layer_sizes': 200}\n",
      "Accuracy: 0.9\n",
      "Precision: 0.9387755102040817\n",
      "Recall: 0.92\n",
      "Specificity: 0.85\n",
      "f2-Score: 0.9349593495934959\n",
      "Time Train (s): 8.534691900000325\n",
      "Time Test (s): 0.0007484999987354968\n",
      "Time Total (s): 8.535440399999061\n",
      "\n",
      "\n"
     ]
    },
    {
     "name": "stderr",
     "output_type": "stream",
     "text": [
      "C:\\Users\\fadell\\AppData\\Roaming\\Python\\Python36\\site-packages\\sklearn\\neural_network\\_multilayer_perceptron.py:500: ConvergenceWarning: lbfgs failed to converge (status=1):\n",
      "STOP: TOTAL NO. of ITERATIONS REACHED LIMIT.\n",
      "\n",
      "Increase the number of iterations (max_iter) or scale the data as shown in:\n",
      "    https://scikit-learn.org/stable/modules/preprocessing.html\n",
      "  self.n_iter_ = _check_optimize_result(\"lbfgs\", opt_res, self.max_iter)\n",
      "C:\\Users\\fadell\\AppData\\Roaming\\Python\\Python36\\site-packages\\sklearn\\neural_network\\_multilayer_perceptron.py:500: ConvergenceWarning: lbfgs failed to converge (status=1):\n",
      "STOP: TOTAL NO. of ITERATIONS REACHED LIMIT.\n",
      "\n",
      "Increase the number of iterations (max_iter) or scale the data as shown in:\n",
      "    https://scikit-learn.org/stable/modules/preprocessing.html\n",
      "  self.n_iter_ = _check_optimize_result(\"lbfgs\", opt_res, self.max_iter)\n"
     ]
    },
    {
     "name": "stdout",
     "output_type": "stream",
     "text": [
      "[[17  3]\n",
      " [ 4 46]]\n",
      "Rodada: # 8\n",
      "{'Activation': 'relu', 'Alpha': 0.1, 'Solver': 'lbfgs', 'hidden_layer_sizes': 100}\n",
      "Accuracy: 0.9\n",
      "Precision: 0.9387755102040817\n",
      "Recall: 0.92\n",
      "Specificity: 0.85\n",
      "f2-Score: 0.9349593495934959\n",
      "Time Train (s): 7.006517300000269\n",
      "Time Test (s): 0.0005216999998083338\n",
      "Time Total (s): 7.007039000000077\n",
      "\n",
      "\n"
     ]
    },
    {
     "name": "stderr",
     "output_type": "stream",
     "text": [
      "C:\\Users\\fadell\\AppData\\Roaming\\Python\\Python36\\site-packages\\sklearn\\neural_network\\_multilayer_perceptron.py:500: ConvergenceWarning: lbfgs failed to converge (status=1):\n",
      "STOP: TOTAL NO. of ITERATIONS REACHED LIMIT.\n",
      "\n",
      "Increase the number of iterations (max_iter) or scale the data as shown in:\n",
      "    https://scikit-learn.org/stable/modules/preprocessing.html\n",
      "  self.n_iter_ = _check_optimize_result(\"lbfgs\", opt_res, self.max_iter)\n",
      "C:\\Users\\fadell\\AppData\\Roaming\\Python\\Python36\\site-packages\\sklearn\\neural_network\\_multilayer_perceptron.py:500: ConvergenceWarning: lbfgs failed to converge (status=1):\n",
      "STOP: TOTAL NO. of ITERATIONS REACHED LIMIT.\n",
      "\n",
      "Increase the number of iterations (max_iter) or scale the data as shown in:\n",
      "    https://scikit-learn.org/stable/modules/preprocessing.html\n",
      "  self.n_iter_ = _check_optimize_result(\"lbfgs\", opt_res, self.max_iter)\n"
     ]
    },
    {
     "name": "stdout",
     "output_type": "stream",
     "text": [
      "[[13  7]\n",
      " [ 6 44]]\n",
      "Rodada: # 9\n",
      "{'Activation': 'relu', 'Alpha': 0.1, 'Solver': 'lbfgs', 'hidden_layer_sizes': 100}\n",
      "Accuracy: 0.8142857142857143\n",
      "Precision: 0.8627450980392157\n",
      "Recall: 0.88\n",
      "Specificity: 0.65\n",
      "f2-Score: 0.8661417322834646\n",
      "Time Train (s): 7.715229800000088\n",
      "Time Test (s): 0.0007216000012704171\n",
      "Time Total (s): 7.715951400001359\n",
      "\n",
      "\n"
     ]
    },
    {
     "name": "stderr",
     "output_type": "stream",
     "text": [
      "C:\\Users\\fadell\\AppData\\Roaming\\Python\\Python36\\site-packages\\sklearn\\neural_network\\_multilayer_perceptron.py:500: ConvergenceWarning: lbfgs failed to converge (status=1):\n",
      "STOP: TOTAL NO. of ITERATIONS REACHED LIMIT.\n",
      "\n",
      "Increase the number of iterations (max_iter) or scale the data as shown in:\n",
      "    https://scikit-learn.org/stable/modules/preprocessing.html\n",
      "  self.n_iter_ = _check_optimize_result(\"lbfgs\", opt_res, self.max_iter)\n",
      "C:\\Users\\fadell\\AppData\\Roaming\\Python\\Python36\\site-packages\\sklearn\\neural_network\\_multilayer_perceptron.py:500: ConvergenceWarning: lbfgs failed to converge (status=1):\n",
      "STOP: TOTAL NO. of ITERATIONS REACHED LIMIT.\n",
      "\n",
      "Increase the number of iterations (max_iter) or scale the data as shown in:\n",
      "    https://scikit-learn.org/stable/modules/preprocessing.html\n",
      "  self.n_iter_ = _check_optimize_result(\"lbfgs\", opt_res, self.max_iter)\n"
     ]
    },
    {
     "name": "stdout",
     "output_type": "stream",
     "text": [
      "[[20  0]\n",
      " [ 2 48]]\n",
      "Rodada: # 10\n",
      "{'Activation': 'relu', 'Alpha': 0.1, 'Solver': 'lbfgs', 'hidden_layer_sizes': 200}\n",
      "Accuracy: 0.9714285714285714\n",
      "Precision: 1.0\n",
      "Recall: 0.96\n",
      "Specificity: 1.0\n",
      "f2-Score: 0.9917355371900827\n",
      "Time Train (s): 9.57816819999789\n",
      "Time Test (s): 0.0007396999972115736\n",
      "Time Total (s): 9.578907899995102\n",
      "\n",
      "\n",
      "[[17  3]\n",
      " [ 3 47]]\n",
      "Rodada: # 11\n",
      "{'Activation': 'relu', 'Alpha': 0.001, 'Solver': 'lbfgs', 'hidden_layer_sizes': 200}\n",
      "Accuracy: 0.9142857142857143\n",
      "Precision: 0.94\n",
      "Recall: 0.94\n",
      "Specificity: 0.85\n",
      "f2-Score: 0.94\n",
      "Time Train (s): 8.20873070000016\n",
      "Time Test (s): 0.0005722999994759448\n",
      "Time Total (s): 8.209302999999636\n",
      "\n",
      "\n"
     ]
    },
    {
     "name": "stderr",
     "output_type": "stream",
     "text": [
      "C:\\Users\\fadell\\AppData\\Roaming\\Python\\Python36\\site-packages\\sklearn\\neural_network\\_multilayer_perceptron.py:500: ConvergenceWarning: lbfgs failed to converge (status=1):\n",
      "STOP: TOTAL NO. of ITERATIONS REACHED LIMIT.\n",
      "\n",
      "Increase the number of iterations (max_iter) or scale the data as shown in:\n",
      "    https://scikit-learn.org/stable/modules/preprocessing.html\n",
      "  self.n_iter_ = _check_optimize_result(\"lbfgs\", opt_res, self.max_iter)\n",
      "C:\\Users\\fadell\\AppData\\Roaming\\Python\\Python36\\site-packages\\sklearn\\neural_network\\_multilayer_perceptron.py:500: ConvergenceWarning: lbfgs failed to converge (status=1):\n",
      "STOP: TOTAL NO. of ITERATIONS REACHED LIMIT.\n",
      "\n",
      "Increase the number of iterations (max_iter) or scale the data as shown in:\n",
      "    https://scikit-learn.org/stable/modules/preprocessing.html\n",
      "  self.n_iter_ = _check_optimize_result(\"lbfgs\", opt_res, self.max_iter)\n"
     ]
    },
    {
     "name": "stdout",
     "output_type": "stream",
     "text": [
      "[[18  2]\n",
      " [ 1 49]]\n",
      "Rodada: # 12\n",
      "{'Activation': 'relu', 'Alpha': 0.1, 'Solver': 'lbfgs', 'hidden_layer_sizes': 100}\n",
      "Accuracy: 0.9571428571428572\n",
      "Precision: 0.9607843137254902\n",
      "Recall: 0.98\n",
      "Specificity: 0.9\n",
      "f2-Score: 0.9645669291338583\n",
      "Time Train (s): 8.565284899999824\n",
      "Time Test (s): 0.0007287999978871085\n",
      "Time Total (s): 8.566013699997711\n",
      "\n",
      "\n"
     ]
    },
    {
     "name": "stderr",
     "output_type": "stream",
     "text": [
      "C:\\Users\\fadell\\AppData\\Roaming\\Python\\Python36\\site-packages\\sklearn\\neural_network\\_multilayer_perceptron.py:500: ConvergenceWarning: lbfgs failed to converge (status=1):\n",
      "STOP: TOTAL NO. of ITERATIONS REACHED LIMIT.\n",
      "\n",
      "Increase the number of iterations (max_iter) or scale the data as shown in:\n",
      "    https://scikit-learn.org/stable/modules/preprocessing.html\n",
      "  self.n_iter_ = _check_optimize_result(\"lbfgs\", opt_res, self.max_iter)\n",
      "C:\\Users\\fadell\\AppData\\Roaming\\Python\\Python36\\site-packages\\sklearn\\neural_network\\_multilayer_perceptron.py:500: ConvergenceWarning: lbfgs failed to converge (status=1):\n",
      "STOP: TOTAL NO. of ITERATIONS REACHED LIMIT.\n",
      "\n",
      "Increase the number of iterations (max_iter) or scale the data as shown in:\n",
      "    https://scikit-learn.org/stable/modules/preprocessing.html\n",
      "  self.n_iter_ = _check_optimize_result(\"lbfgs\", opt_res, self.max_iter)\n"
     ]
    },
    {
     "name": "stdout",
     "output_type": "stream",
     "text": [
      "[[18  2]\n",
      " [ 2 48]]\n",
      "Rodada: # 13\n",
      "{'Activation': 'relu', 'Alpha': 0.1, 'Solver': 'lbfgs', 'hidden_layer_sizes': 100}\n",
      "Accuracy: 0.9428571428571428\n",
      "Precision: 0.96\n",
      "Recall: 0.96\n",
      "Specificity: 0.9\n",
      "f2-Score: 0.96\n",
      "Time Train (s): 9.50185120000242\n",
      "Time Test (s): 0.0005753000004915521\n",
      "Time Total (s): 9.502426500002912\n",
      "\n",
      "\n"
     ]
    },
    {
     "name": "stderr",
     "output_type": "stream",
     "text": [
      "C:\\Users\\fadell\\AppData\\Roaming\\Python\\Python36\\site-packages\\sklearn\\neural_network\\_multilayer_perceptron.py:500: ConvergenceWarning: lbfgs failed to converge (status=1):\n",
      "STOP: TOTAL NO. of ITERATIONS REACHED LIMIT.\n",
      "\n",
      "Increase the number of iterations (max_iter) or scale the data as shown in:\n",
      "    https://scikit-learn.org/stable/modules/preprocessing.html\n",
      "  self.n_iter_ = _check_optimize_result(\"lbfgs\", opt_res, self.max_iter)\n",
      "C:\\Users\\fadell\\AppData\\Roaming\\Python\\Python36\\site-packages\\sklearn\\neural_network\\_multilayer_perceptron.py:500: ConvergenceWarning: lbfgs failed to converge (status=1):\n",
      "STOP: TOTAL NO. of ITERATIONS REACHED LIMIT.\n",
      "\n",
      "Increase the number of iterations (max_iter) or scale the data as shown in:\n",
      "    https://scikit-learn.org/stable/modules/preprocessing.html\n",
      "  self.n_iter_ = _check_optimize_result(\"lbfgs\", opt_res, self.max_iter)\n"
     ]
    },
    {
     "name": "stdout",
     "output_type": "stream",
     "text": [
      "[[16  4]\n",
      " [ 1 49]]\n",
      "Rodada: # 14\n",
      "{'Activation': 'relu', 'Alpha': 0.1, 'Solver': 'lbfgs', 'hidden_layer_sizes': 200}\n",
      "Accuracy: 0.9285714285714286\n",
      "Precision: 0.9245283018867925\n",
      "Recall: 0.98\n",
      "Specificity: 0.8\n",
      "f2-Score: 0.935114503816794\n",
      "Time Train (s): 8.420628600000782\n",
      "Time Test (s): 0.0007182000008469913\n",
      "Time Total (s): 8.42134680000163\n",
      "\n",
      "\n"
     ]
    },
    {
     "name": "stderr",
     "output_type": "stream",
     "text": [
      "C:\\Users\\fadell\\AppData\\Roaming\\Python\\Python36\\site-packages\\sklearn\\neural_network\\_multilayer_perceptron.py:500: ConvergenceWarning: lbfgs failed to converge (status=1):\n",
      "STOP: TOTAL NO. of ITERATIONS REACHED LIMIT.\n",
      "\n",
      "Increase the number of iterations (max_iter) or scale the data as shown in:\n",
      "    https://scikit-learn.org/stable/modules/preprocessing.html\n",
      "  self.n_iter_ = _check_optimize_result(\"lbfgs\", opt_res, self.max_iter)\n",
      "C:\\Users\\fadell\\AppData\\Roaming\\Python\\Python36\\site-packages\\sklearn\\neural_network\\_multilayer_perceptron.py:500: ConvergenceWarning: lbfgs failed to converge (status=1):\n",
      "STOP: TOTAL NO. of ITERATIONS REACHED LIMIT.\n",
      "\n",
      "Increase the number of iterations (max_iter) or scale the data as shown in:\n",
      "    https://scikit-learn.org/stable/modules/preprocessing.html\n",
      "  self.n_iter_ = _check_optimize_result(\"lbfgs\", opt_res, self.max_iter)\n"
     ]
    },
    {
     "name": "stdout",
     "output_type": "stream",
     "text": [
      "[[17  3]\n",
      " [ 2 48]]\n",
      "Rodada: # 15\n",
      "{'Activation': 'relu', 'Alpha': 0.1, 'Solver': 'lbfgs', 'hidden_layer_sizes': 100}\n",
      "Accuracy: 0.9285714285714286\n",
      "Precision: 0.9411764705882353\n",
      "Recall: 0.96\n",
      "Specificity: 0.85\n",
      "f2-Score: 0.9448818897637795\n",
      "Time Train (s): 8.498194399999193\n",
      "Time Test (s): 0.0005899999996472616\n",
      "Time Total (s): 8.49878439999884\n",
      "\n",
      "\n"
     ]
    },
    {
     "name": "stderr",
     "output_type": "stream",
     "text": [
      "C:\\Users\\fadell\\AppData\\Roaming\\Python\\Python36\\site-packages\\sklearn\\neural_network\\_multilayer_perceptron.py:500: ConvergenceWarning: lbfgs failed to converge (status=1):\n",
      "STOP: TOTAL NO. of ITERATIONS REACHED LIMIT.\n",
      "\n",
      "Increase the number of iterations (max_iter) or scale the data as shown in:\n",
      "    https://scikit-learn.org/stable/modules/preprocessing.html\n",
      "  self.n_iter_ = _check_optimize_result(\"lbfgs\", opt_res, self.max_iter)\n",
      "C:\\Users\\fadell\\AppData\\Roaming\\Python\\Python36\\site-packages\\sklearn\\neural_network\\_multilayer_perceptron.py:500: ConvergenceWarning: lbfgs failed to converge (status=1):\n",
      "STOP: TOTAL NO. of ITERATIONS REACHED LIMIT.\n",
      "\n",
      "Increase the number of iterations (max_iter) or scale the data as shown in:\n",
      "    https://scikit-learn.org/stable/modules/preprocessing.html\n",
      "  self.n_iter_ = _check_optimize_result(\"lbfgs\", opt_res, self.max_iter)\n"
     ]
    },
    {
     "name": "stdout",
     "output_type": "stream",
     "text": [
      "[[19  1]\n",
      " [ 3 47]]\n",
      "Rodada: # 16\n",
      "{'Activation': 'relu', 'Alpha': 0.1, 'Solver': 'lbfgs', 'hidden_layer_sizes': 150}\n",
      "Accuracy: 0.9428571428571428\n",
      "Precision: 0.9791666666666666\n",
      "Recall: 0.94\n",
      "Specificity: 0.95\n",
      "f2-Score: 0.9710743801652891\n",
      "Time Train (s): 8.177492400001938\n",
      "Time Test (s): 0.0006393000003299676\n",
      "Time Total (s): 8.178131700002268\n",
      "\n",
      "\n"
     ]
    },
    {
     "name": "stderr",
     "output_type": "stream",
     "text": [
      "C:\\Users\\fadell\\AppData\\Roaming\\Python\\Python36\\site-packages\\sklearn\\neural_network\\_multilayer_perceptron.py:500: ConvergenceWarning: lbfgs failed to converge (status=1):\n",
      "STOP: TOTAL NO. of ITERATIONS REACHED LIMIT.\n",
      "\n",
      "Increase the number of iterations (max_iter) or scale the data as shown in:\n",
      "    https://scikit-learn.org/stable/modules/preprocessing.html\n",
      "  self.n_iter_ = _check_optimize_result(\"lbfgs\", opt_res, self.max_iter)\n",
      "C:\\Users\\fadell\\AppData\\Roaming\\Python\\Python36\\site-packages\\sklearn\\neural_network\\_multilayer_perceptron.py:500: ConvergenceWarning: lbfgs failed to converge (status=1):\n",
      "STOP: TOTAL NO. of ITERATIONS REACHED LIMIT.\n",
      "\n",
      "Increase the number of iterations (max_iter) or scale the data as shown in:\n",
      "    https://scikit-learn.org/stable/modules/preprocessing.html\n",
      "  self.n_iter_ = _check_optimize_result(\"lbfgs\", opt_res, self.max_iter)\n"
     ]
    },
    {
     "name": "stdout",
     "output_type": "stream",
     "text": [
      "[[19  1]\n",
      " [ 3 47]]\n",
      "Rodada: # 17\n",
      "{'Activation': 'relu', 'Alpha': 0.1, 'Solver': 'lbfgs', 'hidden_layer_sizes': 200}\n",
      "Accuracy: 0.9428571428571428\n",
      "Precision: 0.9791666666666666\n",
      "Recall: 0.94\n",
      "Specificity: 0.95\n",
      "f2-Score: 0.9710743801652891\n",
      "Time Train (s): 9.91640379999808\n",
      "Time Test (s): 0.0006700000012642704\n",
      "Time Total (s): 9.917073799999343\n",
      "\n",
      "\n"
     ]
    },
    {
     "name": "stderr",
     "output_type": "stream",
     "text": [
      "C:\\Users\\fadell\\AppData\\Roaming\\Python\\Python36\\site-packages\\sklearn\\neural_network\\_multilayer_perceptron.py:500: ConvergenceWarning: lbfgs failed to converge (status=1):\n",
      "STOP: TOTAL NO. of ITERATIONS REACHED LIMIT.\n",
      "\n",
      "Increase the number of iterations (max_iter) or scale the data as shown in:\n",
      "    https://scikit-learn.org/stable/modules/preprocessing.html\n",
      "  self.n_iter_ = _check_optimize_result(\"lbfgs\", opt_res, self.max_iter)\n",
      "C:\\Users\\fadell\\AppData\\Roaming\\Python\\Python36\\site-packages\\sklearn\\neural_network\\_multilayer_perceptron.py:500: ConvergenceWarning: lbfgs failed to converge (status=1):\n",
      "STOP: TOTAL NO. of ITERATIONS REACHED LIMIT.\n",
      "\n",
      "Increase the number of iterations (max_iter) or scale the data as shown in:\n",
      "    https://scikit-learn.org/stable/modules/preprocessing.html\n",
      "  self.n_iter_ = _check_optimize_result(\"lbfgs\", opt_res, self.max_iter)\n"
     ]
    },
    {
     "name": "stdout",
     "output_type": "stream",
     "text": [
      "[[18  2]\n",
      " [ 3 47]]\n",
      "Rodada: # 18\n",
      "{'Activation': 'relu', 'Alpha': 0.1, 'Solver': 'lbfgs', 'hidden_layer_sizes': 200}\n",
      "Accuracy: 0.9285714285714286\n",
      "Precision: 0.9591836734693877\n",
      "Recall: 0.94\n",
      "Specificity: 0.9\n",
      "f2-Score: 0.9552845528455283\n",
      "Time Train (s): 8.678028300000733\n",
      "Time Test (s): 0.000893999997060746\n",
      "Time Total (s): 8.678922299997794\n",
      "\n",
      "\n"
     ]
    },
    {
     "name": "stderr",
     "output_type": "stream",
     "text": [
      "C:\\Users\\fadell\\AppData\\Roaming\\Python\\Python36\\site-packages\\sklearn\\neural_network\\_multilayer_perceptron.py:500: ConvergenceWarning: lbfgs failed to converge (status=1):\n",
      "STOP: TOTAL NO. of ITERATIONS REACHED LIMIT.\n",
      "\n",
      "Increase the number of iterations (max_iter) or scale the data as shown in:\n",
      "    https://scikit-learn.org/stable/modules/preprocessing.html\n",
      "  self.n_iter_ = _check_optimize_result(\"lbfgs\", opt_res, self.max_iter)\n",
      "C:\\Users\\fadell\\AppData\\Roaming\\Python\\Python36\\site-packages\\sklearn\\neural_network\\_multilayer_perceptron.py:500: ConvergenceWarning: lbfgs failed to converge (status=1):\n",
      "STOP: TOTAL NO. of ITERATIONS REACHED LIMIT.\n",
      "\n",
      "Increase the number of iterations (max_iter) or scale the data as shown in:\n",
      "    https://scikit-learn.org/stable/modules/preprocessing.html\n",
      "  self.n_iter_ = _check_optimize_result(\"lbfgs\", opt_res, self.max_iter)\n"
     ]
    },
    {
     "name": "stdout",
     "output_type": "stream",
     "text": [
      "[[16  4]\n",
      " [ 4 46]]\n",
      "Rodada: # 19\n",
      "{'Activation': 'relu', 'Alpha': 0.1, 'Solver': 'lbfgs', 'hidden_layer_sizes': 150}\n",
      "Accuracy: 0.8857142857142857\n",
      "Precision: 0.92\n",
      "Recall: 0.92\n",
      "Specificity: 0.8\n",
      "f2-Score: 0.9199999999999999\n",
      "Time Train (s): 8.440643899997667\n",
      "Time Test (s): 0.0010238000031677075\n",
      "Time Total (s): 8.441667700000835\n",
      "\n",
      "\n",
      "[[17  3]\n",
      " [ 5 45]]\n",
      "Rodada: # 20\n",
      "{'Activation': 'relu', 'Alpha': 0.001, 'Solver': 'lbfgs', 'hidden_layer_sizes': 100}\n",
      "Accuracy: 0.8857142857142857\n",
      "Precision: 0.9375\n",
      "Recall: 0.9\n",
      "Specificity: 0.85\n",
      "f2-Score: 0.9297520661157026\n",
      "Time Train (s): 8.054372800001147\n",
      "Time Test (s): 0.0006240999973670114\n",
      "Time Total (s): 8.054996899998514\n",
      "\n",
      "\n"
     ]
    },
    {
     "name": "stderr",
     "output_type": "stream",
     "text": [
      "C:\\Users\\fadell\\AppData\\Roaming\\Python\\Python36\\site-packages\\sklearn\\neural_network\\_multilayer_perceptron.py:500: ConvergenceWarning: lbfgs failed to converge (status=1):\n",
      "STOP: TOTAL NO. of ITERATIONS REACHED LIMIT.\n",
      "\n",
      "Increase the number of iterations (max_iter) or scale the data as shown in:\n",
      "    https://scikit-learn.org/stable/modules/preprocessing.html\n",
      "  self.n_iter_ = _check_optimize_result(\"lbfgs\", opt_res, self.max_iter)\n",
      "C:\\Users\\fadell\\AppData\\Roaming\\Python\\Python36\\site-packages\\sklearn\\neural_network\\_multilayer_perceptron.py:500: ConvergenceWarning: lbfgs failed to converge (status=1):\n",
      "STOP: TOTAL NO. of ITERATIONS REACHED LIMIT.\n",
      "\n",
      "Increase the number of iterations (max_iter) or scale the data as shown in:\n",
      "    https://scikit-learn.org/stable/modules/preprocessing.html\n",
      "  self.n_iter_ = _check_optimize_result(\"lbfgs\", opt_res, self.max_iter)\n"
     ]
    },
    {
     "name": "stdout",
     "output_type": "stream",
     "text": [
      "[[17  3]\n",
      " [ 6 44]]\n",
      "Rodada: # 21\n",
      "{'Activation': 'relu', 'Alpha': 0.1, 'Solver': 'lbfgs', 'hidden_layer_sizes': 100}\n",
      "Accuracy: 0.8714285714285714\n",
      "Precision: 0.9361702127659575\n",
      "Recall: 0.88\n",
      "Specificity: 0.85\n",
      "f2-Score: 0.9243697478991595\n",
      "Time Train (s): 8.134607700001652\n",
      "Time Test (s): 0.0005057999987911899\n",
      "Time Total (s): 8.135113500000443\n",
      "\n",
      "\n"
     ]
    },
    {
     "name": "stderr",
     "output_type": "stream",
     "text": [
      "C:\\Users\\fadell\\AppData\\Roaming\\Python\\Python36\\site-packages\\sklearn\\neural_network\\_multilayer_perceptron.py:500: ConvergenceWarning: lbfgs failed to converge (status=1):\n",
      "STOP: TOTAL NO. of ITERATIONS REACHED LIMIT.\n",
      "\n",
      "Increase the number of iterations (max_iter) or scale the data as shown in:\n",
      "    https://scikit-learn.org/stable/modules/preprocessing.html\n",
      "  self.n_iter_ = _check_optimize_result(\"lbfgs\", opt_res, self.max_iter)\n",
      "C:\\Users\\fadell\\AppData\\Roaming\\Python\\Python36\\site-packages\\sklearn\\neural_network\\_multilayer_perceptron.py:500: ConvergenceWarning: lbfgs failed to converge (status=1):\n",
      "STOP: TOTAL NO. of ITERATIONS REACHED LIMIT.\n",
      "\n",
      "Increase the number of iterations (max_iter) or scale the data as shown in:\n",
      "    https://scikit-learn.org/stable/modules/preprocessing.html\n",
      "  self.n_iter_ = _check_optimize_result(\"lbfgs\", opt_res, self.max_iter)\n"
     ]
    },
    {
     "name": "stdout",
     "output_type": "stream",
     "text": [
      "[[20  0]\n",
      " [ 8 42]]\n",
      "Rodada: # 22\n",
      "{'Activation': 'relu', 'Alpha': 0.1, 'Solver': 'lbfgs', 'hidden_layer_sizes': 150}\n",
      "Accuracy: 0.8857142857142857\n",
      "Precision: 1.0\n",
      "Recall: 0.84\n",
      "Specificity: 1.0\n",
      "f2-Score: 0.9633027522935782\n",
      "Time Train (s): 8.689018700002634\n",
      "Time Test (s): 0.0006858999986434355\n",
      "Time Total (s): 8.689704600001278\n",
      "\n",
      "\n"
     ]
    },
    {
     "name": "stderr",
     "output_type": "stream",
     "text": [
      "C:\\Users\\fadell\\AppData\\Roaming\\Python\\Python36\\site-packages\\sklearn\\neural_network\\_multilayer_perceptron.py:500: ConvergenceWarning: lbfgs failed to converge (status=1):\n",
      "STOP: TOTAL NO. of ITERATIONS REACHED LIMIT.\n",
      "\n",
      "Increase the number of iterations (max_iter) or scale the data as shown in:\n",
      "    https://scikit-learn.org/stable/modules/preprocessing.html\n",
      "  self.n_iter_ = _check_optimize_result(\"lbfgs\", opt_res, self.max_iter)\n",
      "C:\\Users\\fadell\\AppData\\Roaming\\Python\\Python36\\site-packages\\sklearn\\neural_network\\_multilayer_perceptron.py:500: ConvergenceWarning: lbfgs failed to converge (status=1):\n",
      "STOP: TOTAL NO. of ITERATIONS REACHED LIMIT.\n",
      "\n",
      "Increase the number of iterations (max_iter) or scale the data as shown in:\n",
      "    https://scikit-learn.org/stable/modules/preprocessing.html\n",
      "  self.n_iter_ = _check_optimize_result(\"lbfgs\", opt_res, self.max_iter)\n"
     ]
    },
    {
     "name": "stdout",
     "output_type": "stream",
     "text": [
      "[[16  4]\n",
      " [ 4 46]]\n",
      "Rodada: # 23\n",
      "{'Activation': 'relu', 'Alpha': 0.1, 'Solver': 'lbfgs', 'hidden_layer_sizes': 100}\n",
      "Accuracy: 0.8857142857142857\n",
      "Precision: 0.92\n",
      "Recall: 0.92\n",
      "Specificity: 0.8\n",
      "f2-Score: 0.9199999999999999\n",
      "Time Train (s): 8.026820600000065\n",
      "Time Test (s): 0.0005593000023509376\n",
      "Time Total (s): 8.027379900002416\n",
      "\n",
      "\n"
     ]
    },
    {
     "name": "stderr",
     "output_type": "stream",
     "text": [
      "C:\\Users\\fadell\\AppData\\Roaming\\Python\\Python36\\site-packages\\sklearn\\neural_network\\_multilayer_perceptron.py:500: ConvergenceWarning: lbfgs failed to converge (status=1):\n",
      "STOP: TOTAL NO. of ITERATIONS REACHED LIMIT.\n",
      "\n",
      "Increase the number of iterations (max_iter) or scale the data as shown in:\n",
      "    https://scikit-learn.org/stable/modules/preprocessing.html\n",
      "  self.n_iter_ = _check_optimize_result(\"lbfgs\", opt_res, self.max_iter)\n",
      "C:\\Users\\fadell\\AppData\\Roaming\\Python\\Python36\\site-packages\\sklearn\\neural_network\\_multilayer_perceptron.py:500: ConvergenceWarning: lbfgs failed to converge (status=1):\n",
      "STOP: TOTAL NO. of ITERATIONS REACHED LIMIT.\n",
      "\n",
      "Increase the number of iterations (max_iter) or scale the data as shown in:\n",
      "    https://scikit-learn.org/stable/modules/preprocessing.html\n",
      "  self.n_iter_ = _check_optimize_result(\"lbfgs\", opt_res, self.max_iter)\n"
     ]
    },
    {
     "name": "stdout",
     "output_type": "stream",
     "text": [
      "[[19  1]\n",
      " [ 5 45]]\n",
      "Rodada: # 24\n",
      "{'Activation': 'relu', 'Alpha': 0.1, 'Solver': 'lbfgs', 'hidden_layer_sizes': 200}\n",
      "Accuracy: 0.9142857142857143\n",
      "Precision: 0.9782608695652174\n",
      "Recall: 0.9\n",
      "Specificity: 0.95\n",
      "f2-Score: 0.9615384615384616\n",
      "Time Train (s): 9.381017800002155\n",
      "Time Test (s): 0.0006928000002517365\n",
      "Time Total (s): 9.381710600002407\n",
      "\n",
      "\n"
     ]
    },
    {
     "name": "stderr",
     "output_type": "stream",
     "text": [
      "C:\\Users\\fadell\\AppData\\Roaming\\Python\\Python36\\site-packages\\sklearn\\neural_network\\_multilayer_perceptron.py:500: ConvergenceWarning: lbfgs failed to converge (status=1):\n",
      "STOP: TOTAL NO. of ITERATIONS REACHED LIMIT.\n",
      "\n",
      "Increase the number of iterations (max_iter) or scale the data as shown in:\n",
      "    https://scikit-learn.org/stable/modules/preprocessing.html\n",
      "  self.n_iter_ = _check_optimize_result(\"lbfgs\", opt_res, self.max_iter)\n",
      "C:\\Users\\fadell\\AppData\\Roaming\\Python\\Python36\\site-packages\\sklearn\\neural_network\\_multilayer_perceptron.py:500: ConvergenceWarning: lbfgs failed to converge (status=1):\n",
      "STOP: TOTAL NO. of ITERATIONS REACHED LIMIT.\n",
      "\n",
      "Increase the number of iterations (max_iter) or scale the data as shown in:\n",
      "    https://scikit-learn.org/stable/modules/preprocessing.html\n",
      "  self.n_iter_ = _check_optimize_result(\"lbfgs\", opt_res, self.max_iter)\n"
     ]
    },
    {
     "name": "stdout",
     "output_type": "stream",
     "text": [
      "[[18  2]\n",
      " [ 3 47]]\n",
      "Rodada: # 25\n",
      "{'Activation': 'relu', 'Alpha': 0.1, 'Solver': 'lbfgs', 'hidden_layer_sizes': 200}\n",
      "Accuracy: 0.9285714285714286\n",
      "Precision: 0.9591836734693877\n",
      "Recall: 0.94\n",
      "Specificity: 0.9\n",
      "f2-Score: 0.9552845528455283\n",
      "Time Train (s): 8.761598900000536\n",
      "Time Test (s): 0.0007805999994161539\n",
      "Time Total (s): 8.762379499999952\n",
      "\n",
      "\n"
     ]
    },
    {
     "name": "stderr",
     "output_type": "stream",
     "text": [
      "C:\\Users\\fadell\\AppData\\Roaming\\Python\\Python36\\site-packages\\sklearn\\neural_network\\_multilayer_perceptron.py:500: ConvergenceWarning: lbfgs failed to converge (status=1):\n",
      "STOP: TOTAL NO. of ITERATIONS REACHED LIMIT.\n",
      "\n",
      "Increase the number of iterations (max_iter) or scale the data as shown in:\n",
      "    https://scikit-learn.org/stable/modules/preprocessing.html\n",
      "  self.n_iter_ = _check_optimize_result(\"lbfgs\", opt_res, self.max_iter)\n",
      "C:\\Users\\fadell\\AppData\\Roaming\\Python\\Python36\\site-packages\\sklearn\\neural_network\\_multilayer_perceptron.py:500: ConvergenceWarning: lbfgs failed to converge (status=1):\n",
      "STOP: TOTAL NO. of ITERATIONS REACHED LIMIT.\n",
      "\n",
      "Increase the number of iterations (max_iter) or scale the data as shown in:\n",
      "    https://scikit-learn.org/stable/modules/preprocessing.html\n",
      "  self.n_iter_ = _check_optimize_result(\"lbfgs\", opt_res, self.max_iter)\n"
     ]
    },
    {
     "name": "stdout",
     "output_type": "stream",
     "text": [
      "[[18  2]\n",
      " [ 5 45]]\n",
      "Rodada: # 26\n",
      "{'Activation': 'relu', 'Alpha': 0.1, 'Solver': 'lbfgs', 'hidden_layer_sizes': 150}\n",
      "Accuracy: 0.9\n",
      "Precision: 0.9574468085106383\n",
      "Recall: 0.9\n",
      "Specificity: 0.9\n",
      "f2-Score: 0.9453781512605042\n",
      "Time Train (s): 9.048540499999945\n",
      "Time Test (s): 0.0006415999996534083\n",
      "Time Total (s): 9.049182099999598\n",
      "\n",
      "\n"
     ]
    },
    {
     "name": "stderr",
     "output_type": "stream",
     "text": [
      "C:\\Users\\fadell\\AppData\\Roaming\\Python\\Python36\\site-packages\\sklearn\\neural_network\\_multilayer_perceptron.py:500: ConvergenceWarning: lbfgs failed to converge (status=1):\n",
      "STOP: TOTAL NO. of ITERATIONS REACHED LIMIT.\n",
      "\n",
      "Increase the number of iterations (max_iter) or scale the data as shown in:\n",
      "    https://scikit-learn.org/stable/modules/preprocessing.html\n",
      "  self.n_iter_ = _check_optimize_result(\"lbfgs\", opt_res, self.max_iter)\n",
      "C:\\Users\\fadell\\AppData\\Roaming\\Python\\Python36\\site-packages\\sklearn\\neural_network\\_multilayer_perceptron.py:500: ConvergenceWarning: lbfgs failed to converge (status=1):\n",
      "STOP: TOTAL NO. of ITERATIONS REACHED LIMIT.\n",
      "\n",
      "Increase the number of iterations (max_iter) or scale the data as shown in:\n",
      "    https://scikit-learn.org/stable/modules/preprocessing.html\n",
      "  self.n_iter_ = _check_optimize_result(\"lbfgs\", opt_res, self.max_iter)\n"
     ]
    },
    {
     "name": "stdout",
     "output_type": "stream",
     "text": [
      "[[19  1]\n",
      " [ 6 44]]\n",
      "Rodada: # 27\n",
      "{'Activation': 'relu', 'Alpha': 0.1, 'Solver': 'lbfgs', 'hidden_layer_sizes': 150}\n",
      "Accuracy: 0.9\n",
      "Precision: 0.9777777777777777\n",
      "Recall: 0.88\n",
      "Specificity: 0.95\n",
      "f2-Score: 0.9565217391304349\n",
      "Time Train (s): 8.668918699997448\n",
      "Time Test (s): 0.0006659000027866568\n",
      "Time Total (s): 8.669584600000235\n",
      "\n",
      "\n"
     ]
    },
    {
     "name": "stderr",
     "output_type": "stream",
     "text": [
      "C:\\Users\\fadell\\AppData\\Roaming\\Python\\Python36\\site-packages\\sklearn\\neural_network\\_multilayer_perceptron.py:500: ConvergenceWarning: lbfgs failed to converge (status=1):\n",
      "STOP: TOTAL NO. of ITERATIONS REACHED LIMIT.\n",
      "\n",
      "Increase the number of iterations (max_iter) or scale the data as shown in:\n",
      "    https://scikit-learn.org/stable/modules/preprocessing.html\n",
      "  self.n_iter_ = _check_optimize_result(\"lbfgs\", opt_res, self.max_iter)\n",
      "C:\\Users\\fadell\\AppData\\Roaming\\Python\\Python36\\site-packages\\sklearn\\neural_network\\_multilayer_perceptron.py:500: ConvergenceWarning: lbfgs failed to converge (status=1):\n",
      "STOP: TOTAL NO. of ITERATIONS REACHED LIMIT.\n",
      "\n",
      "Increase the number of iterations (max_iter) or scale the data as shown in:\n",
      "    https://scikit-learn.org/stable/modules/preprocessing.html\n",
      "  self.n_iter_ = _check_optimize_result(\"lbfgs\", opt_res, self.max_iter)\n"
     ]
    },
    {
     "name": "stdout",
     "output_type": "stream",
     "text": [
      "[[18  2]\n",
      " [ 3 47]]\n",
      "Rodada: # 28\n",
      "{'Activation': 'relu', 'Alpha': 0.1, 'Solver': 'lbfgs', 'hidden_layer_sizes': 100}\n",
      "Accuracy: 0.9285714285714286\n",
      "Precision: 0.9591836734693877\n",
      "Recall: 0.94\n",
      "Specificity: 0.9\n",
      "f2-Score: 0.9552845528455283\n",
      "Time Train (s): 9.166881799999828\n",
      "Time Test (s): 0.0005109999983687885\n",
      "Time Total (s): 9.167392799998197\n",
      "\n",
      "\n"
     ]
    },
    {
     "name": "stderr",
     "output_type": "stream",
     "text": [
      "C:\\Users\\fadell\\AppData\\Roaming\\Python\\Python36\\site-packages\\sklearn\\neural_network\\_multilayer_perceptron.py:500: ConvergenceWarning: lbfgs failed to converge (status=1):\n",
      "STOP: TOTAL NO. of ITERATIONS REACHED LIMIT.\n",
      "\n",
      "Increase the number of iterations (max_iter) or scale the data as shown in:\n",
      "    https://scikit-learn.org/stable/modules/preprocessing.html\n",
      "  self.n_iter_ = _check_optimize_result(\"lbfgs\", opt_res, self.max_iter)\n",
      "C:\\Users\\fadell\\AppData\\Roaming\\Python\\Python36\\site-packages\\sklearn\\neural_network\\_multilayer_perceptron.py:500: ConvergenceWarning: lbfgs failed to converge (status=1):\n",
      "STOP: TOTAL NO. of ITERATIONS REACHED LIMIT.\n",
      "\n",
      "Increase the number of iterations (max_iter) or scale the data as shown in:\n",
      "    https://scikit-learn.org/stable/modules/preprocessing.html\n",
      "  self.n_iter_ = _check_optimize_result(\"lbfgs\", opt_res, self.max_iter)\n"
     ]
    },
    {
     "name": "stdout",
     "output_type": "stream",
     "text": [
      "[[17  3]\n",
      " [ 1 49]]\n",
      "Rodada: # 29\n",
      "{'Activation': 'relu', 'Alpha': 0.1, 'Solver': 'lbfgs', 'hidden_layer_sizes': 100}\n",
      "Accuracy: 0.9428571428571428\n",
      "Precision: 0.9423076923076923\n",
      "Recall: 0.98\n",
      "Specificity: 0.85\n",
      "f2-Score: 0.9496124031007752\n",
      "Time Train (s): 8.150102999999945\n",
      "Time Test (s): 0.000785099997301586\n",
      "Time Total (s): 8.150888099997246\n",
      "\n",
      "\n"
     ]
    },
    {
     "name": "stderr",
     "output_type": "stream",
     "text": [
      "C:\\Users\\fadell\\AppData\\Roaming\\Python\\Python36\\site-packages\\sklearn\\neural_network\\_multilayer_perceptron.py:500: ConvergenceWarning: lbfgs failed to converge (status=1):\n",
      "STOP: TOTAL NO. of ITERATIONS REACHED LIMIT.\n",
      "\n",
      "Increase the number of iterations (max_iter) or scale the data as shown in:\n",
      "    https://scikit-learn.org/stable/modules/preprocessing.html\n",
      "  self.n_iter_ = _check_optimize_result(\"lbfgs\", opt_res, self.max_iter)\n",
      "C:\\Users\\fadell\\AppData\\Roaming\\Python\\Python36\\site-packages\\sklearn\\neural_network\\_multilayer_perceptron.py:500: ConvergenceWarning: lbfgs failed to converge (status=1):\n",
      "STOP: TOTAL NO. of ITERATIONS REACHED LIMIT.\n",
      "\n",
      "Increase the number of iterations (max_iter) or scale the data as shown in:\n",
      "    https://scikit-learn.org/stable/modules/preprocessing.html\n",
      "  self.n_iter_ = _check_optimize_result(\"lbfgs\", opt_res, self.max_iter)\n"
     ]
    },
    {
     "name": "stdout",
     "output_type": "stream",
     "text": [
      "[[17  3]\n",
      " [ 1 49]]\n",
      "Rodada: # 30\n",
      "{'Activation': 'relu', 'Alpha': 0.1, 'Solver': 'lbfgs', 'hidden_layer_sizes': 200}\n",
      "Accuracy: 0.9428571428571428\n",
      "Precision: 0.9423076923076923\n",
      "Recall: 0.98\n",
      "Specificity: 0.85\n",
      "f2-Score: 0.9496124031007752\n",
      "Time Train (s): 10.80416420000256\n",
      "Time Test (s): 0.0006928000002517365\n",
      "Time Total (s): 10.804857000002812\n",
      "\n",
      "\n"
     ]
    },
    {
     "name": "stderr",
     "output_type": "stream",
     "text": [
      "C:\\Users\\fadell\\AppData\\Roaming\\Python\\Python36\\site-packages\\sklearn\\neural_network\\_multilayer_perceptron.py:500: ConvergenceWarning: lbfgs failed to converge (status=1):\n",
      "STOP: TOTAL NO. of ITERATIONS REACHED LIMIT.\n",
      "\n",
      "Increase the number of iterations (max_iter) or scale the data as shown in:\n",
      "    https://scikit-learn.org/stable/modules/preprocessing.html\n",
      "  self.n_iter_ = _check_optimize_result(\"lbfgs\", opt_res, self.max_iter)\n",
      "C:\\Users\\fadell\\AppData\\Roaming\\Python\\Python36\\site-packages\\sklearn\\neural_network\\_multilayer_perceptron.py:500: ConvergenceWarning: lbfgs failed to converge (status=1):\n",
      "STOP: TOTAL NO. of ITERATIONS REACHED LIMIT.\n",
      "\n",
      "Increase the number of iterations (max_iter) or scale the data as shown in:\n",
      "    https://scikit-learn.org/stable/modules/preprocessing.html\n",
      "  self.n_iter_ = _check_optimize_result(\"lbfgs\", opt_res, self.max_iter)\n"
     ]
    },
    {
     "name": "stdout",
     "output_type": "stream",
     "text": [
      "[[17  3]\n",
      " [ 3 47]]\n",
      "Rodada: # 31\n",
      "{'Activation': 'relu', 'Alpha': 0.1, 'Solver': 'lbfgs', 'hidden_layer_sizes': 150}\n",
      "Accuracy: 0.9142857142857143\n",
      "Precision: 0.94\n",
      "Recall: 0.94\n",
      "Specificity: 0.85\n",
      "f2-Score: 0.94\n",
      "Time Train (s): 9.277057599996624\n",
      "Time Test (s): 0.000744100001611514\n",
      "Time Total (s): 9.277801699998236\n",
      "\n",
      "\n"
     ]
    },
    {
     "name": "stderr",
     "output_type": "stream",
     "text": [
      "C:\\Users\\fadell\\AppData\\Roaming\\Python\\Python36\\site-packages\\sklearn\\neural_network\\_multilayer_perceptron.py:500: ConvergenceWarning: lbfgs failed to converge (status=1):\n",
      "STOP: TOTAL NO. of ITERATIONS REACHED LIMIT.\n",
      "\n",
      "Increase the number of iterations (max_iter) or scale the data as shown in:\n",
      "    https://scikit-learn.org/stable/modules/preprocessing.html\n",
      "  self.n_iter_ = _check_optimize_result(\"lbfgs\", opt_res, self.max_iter)\n",
      "C:\\Users\\fadell\\AppData\\Roaming\\Python\\Python36\\site-packages\\sklearn\\neural_network\\_multilayer_perceptron.py:500: ConvergenceWarning: lbfgs failed to converge (status=1):\n",
      "STOP: TOTAL NO. of ITERATIONS REACHED LIMIT.\n",
      "\n",
      "Increase the number of iterations (max_iter) or scale the data as shown in:\n",
      "    https://scikit-learn.org/stable/modules/preprocessing.html\n",
      "  self.n_iter_ = _check_optimize_result(\"lbfgs\", opt_res, self.max_iter)\n"
     ]
    },
    {
     "name": "stdout",
     "output_type": "stream",
     "text": [
      "[[17  3]\n",
      " [ 4 46]]\n",
      "Rodada: # 32\n",
      "{'Activation': 'relu', 'Alpha': 0.1, 'Solver': 'lbfgs', 'hidden_layer_sizes': 150}\n",
      "Accuracy: 0.9\n",
      "Precision: 0.9387755102040817\n",
      "Recall: 0.92\n",
      "Specificity: 0.85\n",
      "f2-Score: 0.9349593495934959\n",
      "Time Train (s): 8.651921000000584\n",
      "Time Test (s): 0.0006611999997403473\n",
      "Time Total (s): 8.652582200000325\n",
      "\n",
      "\n"
     ]
    },
    {
     "name": "stderr",
     "output_type": "stream",
     "text": [
      "C:\\Users\\fadell\\AppData\\Roaming\\Python\\Python36\\site-packages\\sklearn\\neural_network\\_multilayer_perceptron.py:500: ConvergenceWarning: lbfgs failed to converge (status=1):\n",
      "STOP: TOTAL NO. of ITERATIONS REACHED LIMIT.\n",
      "\n",
      "Increase the number of iterations (max_iter) or scale the data as shown in:\n",
      "    https://scikit-learn.org/stable/modules/preprocessing.html\n",
      "  self.n_iter_ = _check_optimize_result(\"lbfgs\", opt_res, self.max_iter)\n",
      "C:\\Users\\fadell\\AppData\\Roaming\\Python\\Python36\\site-packages\\sklearn\\neural_network\\_multilayer_perceptron.py:500: ConvergenceWarning: lbfgs failed to converge (status=1):\n",
      "STOP: TOTAL NO. of ITERATIONS REACHED LIMIT.\n",
      "\n",
      "Increase the number of iterations (max_iter) or scale the data as shown in:\n",
      "    https://scikit-learn.org/stable/modules/preprocessing.html\n",
      "  self.n_iter_ = _check_optimize_result(\"lbfgs\", opt_res, self.max_iter)\n"
     ]
    },
    {
     "name": "stdout",
     "output_type": "stream",
     "text": [
      "[[19  1]\n",
      " [ 4 46]]\n",
      "Rodada: # 33\n",
      "{'Activation': 'relu', 'Alpha': 0.1, 'Solver': 'lbfgs', 'hidden_layer_sizes': 100}\n",
      "Accuracy: 0.9285714285714286\n",
      "Precision: 0.9787234042553191\n",
      "Recall: 0.92\n",
      "Specificity: 0.95\n",
      "f2-Score: 0.9663865546218486\n",
      "Time Train (s): 9.031345700001111\n",
      "Time Test (s): 0.0007613000016135629\n",
      "Time Total (s): 9.032107000002725\n",
      "\n",
      "\n"
     ]
    },
    {
     "name": "stderr",
     "output_type": "stream",
     "text": [
      "C:\\Users\\fadell\\AppData\\Roaming\\Python\\Python36\\site-packages\\sklearn\\neural_network\\_multilayer_perceptron.py:500: ConvergenceWarning: lbfgs failed to converge (status=1):\n",
      "STOP: TOTAL NO. of ITERATIONS REACHED LIMIT.\n",
      "\n",
      "Increase the number of iterations (max_iter) or scale the data as shown in:\n",
      "    https://scikit-learn.org/stable/modules/preprocessing.html\n",
      "  self.n_iter_ = _check_optimize_result(\"lbfgs\", opt_res, self.max_iter)\n",
      "C:\\Users\\fadell\\AppData\\Roaming\\Python\\Python36\\site-packages\\sklearn\\neural_network\\_multilayer_perceptron.py:500: ConvergenceWarning: lbfgs failed to converge (status=1):\n",
      "STOP: TOTAL NO. of ITERATIONS REACHED LIMIT.\n",
      "\n",
      "Increase the number of iterations (max_iter) or scale the data as shown in:\n",
      "    https://scikit-learn.org/stable/modules/preprocessing.html\n",
      "  self.n_iter_ = _check_optimize_result(\"lbfgs\", opt_res, self.max_iter)\n"
     ]
    },
    {
     "name": "stdout",
     "output_type": "stream",
     "text": [
      "[[17  3]\n",
      " [ 5 45]]\n",
      "Rodada: # 34\n",
      "{'Activation': 'relu', 'Alpha': 0.1, 'Solver': 'lbfgs', 'hidden_layer_sizes': 100}\n",
      "Accuracy: 0.8857142857142857\n",
      "Precision: 0.9375\n",
      "Recall: 0.9\n",
      "Specificity: 0.85\n",
      "f2-Score: 0.9297520661157026\n",
      "Time Train (s): 7.6128371999984665\n",
      "Time Test (s): 0.00057320000269101\n",
      "Time Total (s): 7.6134104000011575\n",
      "\n",
      "\n"
     ]
    },
    {
     "name": "stderr",
     "output_type": "stream",
     "text": [
      "C:\\Users\\fadell\\AppData\\Roaming\\Python\\Python36\\site-packages\\sklearn\\neural_network\\_multilayer_perceptron.py:500: ConvergenceWarning: lbfgs failed to converge (status=1):\n",
      "STOP: TOTAL NO. of ITERATIONS REACHED LIMIT.\n",
      "\n",
      "Increase the number of iterations (max_iter) or scale the data as shown in:\n",
      "    https://scikit-learn.org/stable/modules/preprocessing.html\n",
      "  self.n_iter_ = _check_optimize_result(\"lbfgs\", opt_res, self.max_iter)\n",
      "C:\\Users\\fadell\\AppData\\Roaming\\Python\\Python36\\site-packages\\sklearn\\neural_network\\_multilayer_perceptron.py:500: ConvergenceWarning: lbfgs failed to converge (status=1):\n",
      "STOP: TOTAL NO. of ITERATIONS REACHED LIMIT.\n",
      "\n",
      "Increase the number of iterations (max_iter) or scale the data as shown in:\n",
      "    https://scikit-learn.org/stable/modules/preprocessing.html\n",
      "  self.n_iter_ = _check_optimize_result(\"lbfgs\", opt_res, self.max_iter)\n"
     ]
    },
    {
     "name": "stdout",
     "output_type": "stream",
     "text": [
      "[[16  4]\n",
      " [ 1 49]]\n",
      "Rodada: # 35\n",
      "{'Activation': 'relu', 'Alpha': 0.1, 'Solver': 'lbfgs', 'hidden_layer_sizes': 200}\n",
      "Accuracy: 0.9285714285714286\n",
      "Precision: 0.9245283018867925\n",
      "Recall: 0.98\n",
      "Specificity: 0.8\n",
      "f2-Score: 0.935114503816794\n",
      "Time Train (s): 9.90389359999972\n",
      "Time Test (s): 0.0008092999996733852\n",
      "Time Total (s): 9.904702899999393\n",
      "\n",
      "\n"
     ]
    },
    {
     "name": "stderr",
     "output_type": "stream",
     "text": [
      "C:\\Users\\fadell\\AppData\\Roaming\\Python\\Python36\\site-packages\\sklearn\\neural_network\\_multilayer_perceptron.py:500: ConvergenceWarning: lbfgs failed to converge (status=1):\n",
      "STOP: TOTAL NO. of ITERATIONS REACHED LIMIT.\n",
      "\n",
      "Increase the number of iterations (max_iter) or scale the data as shown in:\n",
      "    https://scikit-learn.org/stable/modules/preprocessing.html\n",
      "  self.n_iter_ = _check_optimize_result(\"lbfgs\", opt_res, self.max_iter)\n",
      "C:\\Users\\fadell\\AppData\\Roaming\\Python\\Python36\\site-packages\\sklearn\\neural_network\\_multilayer_perceptron.py:500: ConvergenceWarning: lbfgs failed to converge (status=1):\n",
      "STOP: TOTAL NO. of ITERATIONS REACHED LIMIT.\n",
      "\n",
      "Increase the number of iterations (max_iter) or scale the data as shown in:\n",
      "    https://scikit-learn.org/stable/modules/preprocessing.html\n",
      "  self.n_iter_ = _check_optimize_result(\"lbfgs\", opt_res, self.max_iter)\n"
     ]
    },
    {
     "name": "stdout",
     "output_type": "stream",
     "text": [
      "[[19  1]\n",
      " [ 6 44]]\n",
      "Rodada: # 36\n",
      "{'Activation': 'relu', 'Alpha': 0.1, 'Solver': 'lbfgs', 'hidden_layer_sizes': 200}\n",
      "Accuracy: 0.9\n",
      "Precision: 0.9777777777777777\n",
      "Recall: 0.88\n",
      "Specificity: 0.95\n",
      "f2-Score: 0.9565217391304349\n",
      "Time Train (s): 9.563349400003062\n",
      "Time Test (s): 0.0008668000009492971\n",
      "Time Total (s): 9.564216200004012\n",
      "\n",
      "\n"
     ]
    },
    {
     "name": "stderr",
     "output_type": "stream",
     "text": [
      "C:\\Users\\fadell\\AppData\\Roaming\\Python\\Python36\\site-packages\\sklearn\\neural_network\\_multilayer_perceptron.py:500: ConvergenceWarning: lbfgs failed to converge (status=1):\n",
      "STOP: TOTAL NO. of ITERATIONS REACHED LIMIT.\n",
      "\n",
      "Increase the number of iterations (max_iter) or scale the data as shown in:\n",
      "    https://scikit-learn.org/stable/modules/preprocessing.html\n",
      "  self.n_iter_ = _check_optimize_result(\"lbfgs\", opt_res, self.max_iter)\n",
      "C:\\Users\\fadell\\AppData\\Roaming\\Python\\Python36\\site-packages\\sklearn\\neural_network\\_multilayer_perceptron.py:500: ConvergenceWarning: lbfgs failed to converge (status=1):\n",
      "STOP: TOTAL NO. of ITERATIONS REACHED LIMIT.\n",
      "\n",
      "Increase the number of iterations (max_iter) or scale the data as shown in:\n",
      "    https://scikit-learn.org/stable/modules/preprocessing.html\n",
      "  self.n_iter_ = _check_optimize_result(\"lbfgs\", opt_res, self.max_iter)\n"
     ]
    },
    {
     "name": "stdout",
     "output_type": "stream",
     "text": [
      "[[17  3]\n",
      " [ 5 45]]\n",
      "Rodada: # 37\n",
      "{'Activation': 'relu', 'Alpha': 0.1, 'Solver': 'lbfgs', 'hidden_layer_sizes': 100}\n",
      "Accuracy: 0.8857142857142857\n",
      "Precision: 0.9375\n",
      "Recall: 0.9\n",
      "Specificity: 0.85\n",
      "f2-Score: 0.9297520661157026\n",
      "Time Train (s): 8.587047000000894\n",
      "Time Test (s): 0.0007397000008495525\n",
      "Time Total (s): 8.587786700001743\n",
      "\n",
      "\n"
     ]
    },
    {
     "name": "stderr",
     "output_type": "stream",
     "text": [
      "C:\\Users\\fadell\\AppData\\Roaming\\Python\\Python36\\site-packages\\sklearn\\neural_network\\_multilayer_perceptron.py:500: ConvergenceWarning: lbfgs failed to converge (status=1):\n",
      "STOP: TOTAL NO. of ITERATIONS REACHED LIMIT.\n",
      "\n",
      "Increase the number of iterations (max_iter) or scale the data as shown in:\n",
      "    https://scikit-learn.org/stable/modules/preprocessing.html\n",
      "  self.n_iter_ = _check_optimize_result(\"lbfgs\", opt_res, self.max_iter)\n",
      "C:\\Users\\fadell\\AppData\\Roaming\\Python\\Python36\\site-packages\\sklearn\\neural_network\\_multilayer_perceptron.py:500: ConvergenceWarning: lbfgs failed to converge (status=1):\n",
      "STOP: TOTAL NO. of ITERATIONS REACHED LIMIT.\n",
      "\n",
      "Increase the number of iterations (max_iter) or scale the data as shown in:\n",
      "    https://scikit-learn.org/stable/modules/preprocessing.html\n",
      "  self.n_iter_ = _check_optimize_result(\"lbfgs\", opt_res, self.max_iter)\n"
     ]
    },
    {
     "name": "stdout",
     "output_type": "stream",
     "text": [
      "[[17  3]\n",
      " [ 4 46]]\n",
      "Rodada: # 38\n",
      "{'Activation': 'relu', 'Alpha': 0.1, 'Solver': 'lbfgs', 'hidden_layer_sizes': 150}\n",
      "Accuracy: 0.9\n",
      "Precision: 0.9387755102040817\n",
      "Recall: 0.92\n",
      "Specificity: 0.85\n",
      "f2-Score: 0.9349593495934959\n",
      "Time Train (s): 8.329370600000402\n",
      "Time Test (s): 0.0008830999977362808\n",
      "Time Total (s): 8.330253699998138\n",
      "\n",
      "\n"
     ]
    },
    {
     "name": "stderr",
     "output_type": "stream",
     "text": [
      "C:\\Users\\fadell\\AppData\\Roaming\\Python\\Python36\\site-packages\\sklearn\\neural_network\\_multilayer_perceptron.py:500: ConvergenceWarning: lbfgs failed to converge (status=1):\n",
      "STOP: TOTAL NO. of ITERATIONS REACHED LIMIT.\n",
      "\n",
      "Increase the number of iterations (max_iter) or scale the data as shown in:\n",
      "    https://scikit-learn.org/stable/modules/preprocessing.html\n",
      "  self.n_iter_ = _check_optimize_result(\"lbfgs\", opt_res, self.max_iter)\n",
      "C:\\Users\\fadell\\AppData\\Roaming\\Python\\Python36\\site-packages\\sklearn\\neural_network\\_multilayer_perceptron.py:500: ConvergenceWarning: lbfgs failed to converge (status=1):\n",
      "STOP: TOTAL NO. of ITERATIONS REACHED LIMIT.\n",
      "\n",
      "Increase the number of iterations (max_iter) or scale the data as shown in:\n",
      "    https://scikit-learn.org/stable/modules/preprocessing.html\n",
      "  self.n_iter_ = _check_optimize_result(\"lbfgs\", opt_res, self.max_iter)\n"
     ]
    },
    {
     "name": "stdout",
     "output_type": "stream",
     "text": [
      "[[18  2]\n",
      " [ 2 48]]\n",
      "Rodada: # 39\n",
      "{'Activation': 'relu', 'Alpha': 0.1, 'Solver': 'lbfgs', 'hidden_layer_sizes': 100}\n",
      "Accuracy: 0.9428571428571428\n",
      "Precision: 0.96\n",
      "Recall: 0.96\n",
      "Specificity: 0.9\n",
      "f2-Score: 0.96\n",
      "Time Train (s): 7.744314400002622\n",
      "Time Test (s): 0.0008028000011108816\n",
      "Time Total (s): 7.745117200003733\n",
      "\n",
      "\n"
     ]
    },
    {
     "name": "stderr",
     "output_type": "stream",
     "text": [
      "C:\\Users\\fadell\\AppData\\Roaming\\Python\\Python36\\site-packages\\sklearn\\neural_network\\_multilayer_perceptron.py:500: ConvergenceWarning: lbfgs failed to converge (status=1):\n",
      "STOP: TOTAL NO. of ITERATIONS REACHED LIMIT.\n",
      "\n",
      "Increase the number of iterations (max_iter) or scale the data as shown in:\n",
      "    https://scikit-learn.org/stable/modules/preprocessing.html\n",
      "  self.n_iter_ = _check_optimize_result(\"lbfgs\", opt_res, self.max_iter)\n",
      "C:\\Users\\fadell\\AppData\\Roaming\\Python\\Python36\\site-packages\\sklearn\\neural_network\\_multilayer_perceptron.py:500: ConvergenceWarning: lbfgs failed to converge (status=1):\n",
      "STOP: TOTAL NO. of ITERATIONS REACHED LIMIT.\n",
      "\n",
      "Increase the number of iterations (max_iter) or scale the data as shown in:\n",
      "    https://scikit-learn.org/stable/modules/preprocessing.html\n",
      "  self.n_iter_ = _check_optimize_result(\"lbfgs\", opt_res, self.max_iter)\n"
     ]
    },
    {
     "name": "stdout",
     "output_type": "stream",
     "text": [
      "[[13  7]\n",
      " [ 4 46]]\n",
      "Rodada: # 40\n",
      "{'Activation': 'relu', 'Alpha': 0.1, 'Solver': 'lbfgs', 'hidden_layer_sizes': 200}\n",
      "Accuracy: 0.8428571428571429\n",
      "Precision: 0.8679245283018868\n",
      "Recall: 0.92\n",
      "Specificity: 0.65\n",
      "f2-Score: 0.8778625954198475\n",
      "Time Train (s): 8.869083300000057\n",
      "Time Test (s): 0.0007402000010188203\n",
      "Time Total (s): 8.869823500001075\n",
      "\n",
      "\n"
     ]
    },
    {
     "name": "stderr",
     "output_type": "stream",
     "text": [
      "C:\\Users\\fadell\\AppData\\Roaming\\Python\\Python36\\site-packages\\sklearn\\neural_network\\_multilayer_perceptron.py:500: ConvergenceWarning: lbfgs failed to converge (status=1):\n",
      "STOP: TOTAL NO. of ITERATIONS REACHED LIMIT.\n",
      "\n",
      "Increase the number of iterations (max_iter) or scale the data as shown in:\n",
      "    https://scikit-learn.org/stable/modules/preprocessing.html\n",
      "  self.n_iter_ = _check_optimize_result(\"lbfgs\", opt_res, self.max_iter)\n",
      "C:\\Users\\fadell\\AppData\\Roaming\\Python\\Python36\\site-packages\\sklearn\\neural_network\\_multilayer_perceptron.py:500: ConvergenceWarning: lbfgs failed to converge (status=1):\n",
      "STOP: TOTAL NO. of ITERATIONS REACHED LIMIT.\n",
      "\n",
      "Increase the number of iterations (max_iter) or scale the data as shown in:\n",
      "    https://scikit-learn.org/stable/modules/preprocessing.html\n",
      "  self.n_iter_ = _check_optimize_result(\"lbfgs\", opt_res, self.max_iter)\n"
     ]
    },
    {
     "name": "stdout",
     "output_type": "stream",
     "text": [
      "[[11  9]\n",
      " [ 2 48]]\n",
      "Rodada: # 41\n",
      "{'Activation': 'relu', 'Alpha': 0.1, 'Solver': 'lbfgs', 'hidden_layer_sizes': 150}\n",
      "Accuracy: 0.8428571428571429\n",
      "Precision: 0.8421052631578947\n",
      "Recall: 0.96\n",
      "Specificity: 0.55\n",
      "f2-Score: 0.8633093525179855\n",
      "Time Train (s): 7.659277200000361\n",
      "Time Test (s): 0.0006364000000758097\n",
      "Time Total (s): 7.659913600000436\n",
      "\n",
      "\n"
     ]
    },
    {
     "name": "stderr",
     "output_type": "stream",
     "text": [
      "C:\\Users\\fadell\\AppData\\Roaming\\Python\\Python36\\site-packages\\sklearn\\neural_network\\_multilayer_perceptron.py:500: ConvergenceWarning: lbfgs failed to converge (status=1):\n",
      "STOP: TOTAL NO. of ITERATIONS REACHED LIMIT.\n",
      "\n",
      "Increase the number of iterations (max_iter) or scale the data as shown in:\n",
      "    https://scikit-learn.org/stable/modules/preprocessing.html\n",
      "  self.n_iter_ = _check_optimize_result(\"lbfgs\", opt_res, self.max_iter)\n",
      "C:\\Users\\fadell\\AppData\\Roaming\\Python\\Python36\\site-packages\\sklearn\\neural_network\\_multilayer_perceptron.py:500: ConvergenceWarning: lbfgs failed to converge (status=1):\n",
      "STOP: TOTAL NO. of ITERATIONS REACHED LIMIT.\n",
      "\n",
      "Increase the number of iterations (max_iter) or scale the data as shown in:\n",
      "    https://scikit-learn.org/stable/modules/preprocessing.html\n",
      "  self.n_iter_ = _check_optimize_result(\"lbfgs\", opt_res, self.max_iter)\n"
     ]
    },
    {
     "name": "stdout",
     "output_type": "stream",
     "text": [
      "[[14  6]\n",
      " [ 2 48]]\n",
      "Rodada: # 42\n",
      "{'Activation': 'relu', 'Alpha': 0.1, 'Solver': 'lbfgs', 'hidden_layer_sizes': 100}\n",
      "Accuracy: 0.8857142857142857\n",
      "Precision: 0.8888888888888888\n",
      "Recall: 0.96\n",
      "Specificity: 0.7\n",
      "f2-Score: 0.9022556390977443\n",
      "Time Train (s): 7.8000634999989416\n",
      "Time Test (s): 0.0007562000027974136\n",
      "Time Total (s): 7.800819700001739\n",
      "\n",
      "\n"
     ]
    },
    {
     "name": "stderr",
     "output_type": "stream",
     "text": [
      "C:\\Users\\fadell\\AppData\\Roaming\\Python\\Python36\\site-packages\\sklearn\\neural_network\\_multilayer_perceptron.py:500: ConvergenceWarning: lbfgs failed to converge (status=1):\n",
      "STOP: TOTAL NO. of ITERATIONS REACHED LIMIT.\n",
      "\n",
      "Increase the number of iterations (max_iter) or scale the data as shown in:\n",
      "    https://scikit-learn.org/stable/modules/preprocessing.html\n",
      "  self.n_iter_ = _check_optimize_result(\"lbfgs\", opt_res, self.max_iter)\n",
      "C:\\Users\\fadell\\AppData\\Roaming\\Python\\Python36\\site-packages\\sklearn\\neural_network\\_multilayer_perceptron.py:500: ConvergenceWarning: lbfgs failed to converge (status=1):\n",
      "STOP: TOTAL NO. of ITERATIONS REACHED LIMIT.\n",
      "\n",
      "Increase the number of iterations (max_iter) or scale the data as shown in:\n",
      "    https://scikit-learn.org/stable/modules/preprocessing.html\n",
      "  self.n_iter_ = _check_optimize_result(\"lbfgs\", opt_res, self.max_iter)\n"
     ]
    },
    {
     "name": "stdout",
     "output_type": "stream",
     "text": [
      "[[15  5]\n",
      " [ 1 49]]\n",
      "Rodada: # 43\n",
      "{'Activation': 'relu', 'Alpha': 0.1, 'Solver': 'lbfgs', 'hidden_layer_sizes': 100}\n",
      "Accuracy: 0.9142857142857143\n",
      "Precision: 0.9074074074074074\n",
      "Recall: 0.98\n",
      "Specificity: 0.75\n",
      "f2-Score: 0.9210526315789473\n",
      "Time Train (s): 7.684761600001366\n",
      "Time Test (s): 0.0004999000011594035\n",
      "Time Total (s): 7.685261500002525\n",
      "\n",
      "\n"
     ]
    },
    {
     "name": "stderr",
     "output_type": "stream",
     "text": [
      "C:\\Users\\fadell\\AppData\\Roaming\\Python\\Python36\\site-packages\\sklearn\\neural_network\\_multilayer_perceptron.py:500: ConvergenceWarning: lbfgs failed to converge (status=1):\n",
      "STOP: TOTAL NO. of ITERATIONS REACHED LIMIT.\n",
      "\n",
      "Increase the number of iterations (max_iter) or scale the data as shown in:\n",
      "    https://scikit-learn.org/stable/modules/preprocessing.html\n",
      "  self.n_iter_ = _check_optimize_result(\"lbfgs\", opt_res, self.max_iter)\n",
      "C:\\Users\\fadell\\AppData\\Roaming\\Python\\Python36\\site-packages\\sklearn\\neural_network\\_multilayer_perceptron.py:500: ConvergenceWarning: lbfgs failed to converge (status=1):\n",
      "STOP: TOTAL NO. of ITERATIONS REACHED LIMIT.\n",
      "\n",
      "Increase the number of iterations (max_iter) or scale the data as shown in:\n",
      "    https://scikit-learn.org/stable/modules/preprocessing.html\n",
      "  self.n_iter_ = _check_optimize_result(\"lbfgs\", opt_res, self.max_iter)\n"
     ]
    },
    {
     "name": "stdout",
     "output_type": "stream",
     "text": [
      "[[18  2]\n",
      " [ 4 46]]\n",
      "Rodada: # 44\n",
      "{'Activation': 'relu', 'Alpha': 0.1, 'Solver': 'lbfgs', 'hidden_layer_sizes': 150}\n",
      "Accuracy: 0.9142857142857143\n",
      "Precision: 0.9583333333333334\n",
      "Recall: 0.92\n",
      "Specificity: 0.9\n",
      "f2-Score: 0.9504132231404958\n",
      "Time Train (s): 8.981215200001316\n",
      "Time Test (s): 0.0006656000005023088\n",
      "Time Total (s): 8.981880800001818\n",
      "\n",
      "\n"
     ]
    },
    {
     "name": "stderr",
     "output_type": "stream",
     "text": [
      "C:\\Users\\fadell\\AppData\\Roaming\\Python\\Python36\\site-packages\\sklearn\\neural_network\\_multilayer_perceptron.py:500: ConvergenceWarning: lbfgs failed to converge (status=1):\n",
      "STOP: TOTAL NO. of ITERATIONS REACHED LIMIT.\n",
      "\n",
      "Increase the number of iterations (max_iter) or scale the data as shown in:\n",
      "    https://scikit-learn.org/stable/modules/preprocessing.html\n",
      "  self.n_iter_ = _check_optimize_result(\"lbfgs\", opt_res, self.max_iter)\n",
      "C:\\Users\\fadell\\AppData\\Roaming\\Python\\Python36\\site-packages\\sklearn\\neural_network\\_multilayer_perceptron.py:500: ConvergenceWarning: lbfgs failed to converge (status=1):\n",
      "STOP: TOTAL NO. of ITERATIONS REACHED LIMIT.\n",
      "\n",
      "Increase the number of iterations (max_iter) or scale the data as shown in:\n",
      "    https://scikit-learn.org/stable/modules/preprocessing.html\n",
      "  self.n_iter_ = _check_optimize_result(\"lbfgs\", opt_res, self.max_iter)\n"
     ]
    },
    {
     "name": "stdout",
     "output_type": "stream",
     "text": [
      "[[14  6]\n",
      " [ 0 50]]\n",
      "Rodada: # 45\n",
      "{'Activation': 'relu', 'Alpha': 0.1, 'Solver': 'lbfgs', 'hidden_layer_sizes': 100}\n",
      "Accuracy: 0.9142857142857143\n",
      "Precision: 0.8928571428571429\n",
      "Recall: 1.0\n",
      "Specificity: 0.7\n",
      "f2-Score: 0.9124087591240876\n",
      "Time Train (s): 8.111676500000613\n",
      "Time Test (s): 0.0008487000013701618\n",
      "Time Total (s): 8.112525200001983\n",
      "\n",
      "\n",
      "[[16  4]\n",
      " [ 2 48]]\n",
      "Rodada: # 46\n",
      "{'Activation': 'relu', 'Alpha': 0.001, 'Solver': 'lbfgs', 'hidden_layer_sizes': 200}\n",
      "Accuracy: 0.9142857142857143\n",
      "Precision: 0.9230769230769231\n",
      "Recall: 0.96\n",
      "Specificity: 0.8\n",
      "f2-Score: 0.9302325581395349\n",
      "Time Train (s): 7.39814750000005\n",
      "Time Test (s): 0.00054430000091088\n",
      "Time Total (s): 7.398691800000961\n",
      "\n",
      "\n"
     ]
    },
    {
     "name": "stderr",
     "output_type": "stream",
     "text": [
      "C:\\Users\\fadell\\AppData\\Roaming\\Python\\Python36\\site-packages\\sklearn\\neural_network\\_multilayer_perceptron.py:500: ConvergenceWarning: lbfgs failed to converge (status=1):\n",
      "STOP: TOTAL NO. of ITERATIONS REACHED LIMIT.\n",
      "\n",
      "Increase the number of iterations (max_iter) or scale the data as shown in:\n",
      "    https://scikit-learn.org/stable/modules/preprocessing.html\n",
      "  self.n_iter_ = _check_optimize_result(\"lbfgs\", opt_res, self.max_iter)\n",
      "C:\\Users\\fadell\\AppData\\Roaming\\Python\\Python36\\site-packages\\sklearn\\neural_network\\_multilayer_perceptron.py:500: ConvergenceWarning: lbfgs failed to converge (status=1):\n",
      "STOP: TOTAL NO. of ITERATIONS REACHED LIMIT.\n",
      "\n",
      "Increase the number of iterations (max_iter) or scale the data as shown in:\n",
      "    https://scikit-learn.org/stable/modules/preprocessing.html\n",
      "  self.n_iter_ = _check_optimize_result(\"lbfgs\", opt_res, self.max_iter)\n"
     ]
    },
    {
     "name": "stdout",
     "output_type": "stream",
     "text": [
      "[[14  6]\n",
      " [ 1 49]]\n",
      "Rodada: # 47\n",
      "{'Activation': 'relu', 'Alpha': 0.1, 'Solver': 'lbfgs', 'hidden_layer_sizes': 200}\n",
      "Accuracy: 0.9\n",
      "Precision: 0.8909090909090909\n",
      "Recall: 0.98\n",
      "Specificity: 0.7\n",
      "f2-Score: 0.9074074074074074\n",
      "Time Train (s): 8.374183299998549\n",
      "Time Test (s): 0.0007175999999162741\n",
      "Time Total (s): 8.374900899998465\n",
      "\n",
      "\n"
     ]
    },
    {
     "name": "stderr",
     "output_type": "stream",
     "text": [
      "C:\\Users\\fadell\\AppData\\Roaming\\Python\\Python36\\site-packages\\sklearn\\neural_network\\_multilayer_perceptron.py:500: ConvergenceWarning: lbfgs failed to converge (status=1):\n",
      "STOP: TOTAL NO. of ITERATIONS REACHED LIMIT.\n",
      "\n",
      "Increase the number of iterations (max_iter) or scale the data as shown in:\n",
      "    https://scikit-learn.org/stable/modules/preprocessing.html\n",
      "  self.n_iter_ = _check_optimize_result(\"lbfgs\", opt_res, self.max_iter)\n",
      "C:\\Users\\fadell\\AppData\\Roaming\\Python\\Python36\\site-packages\\sklearn\\neural_network\\_multilayer_perceptron.py:500: ConvergenceWarning: lbfgs failed to converge (status=1):\n",
      "STOP: TOTAL NO. of ITERATIONS REACHED LIMIT.\n",
      "\n",
      "Increase the number of iterations (max_iter) or scale the data as shown in:\n",
      "    https://scikit-learn.org/stable/modules/preprocessing.html\n",
      "  self.n_iter_ = _check_optimize_result(\"lbfgs\", opt_res, self.max_iter)\n"
     ]
    },
    {
     "name": "stdout",
     "output_type": "stream",
     "text": [
      "[[15  5]\n",
      " [ 4 46]]\n",
      "Rodada: # 48\n",
      "{'Activation': 'relu', 'Alpha': 0.1, 'Solver': 'lbfgs', 'hidden_layer_sizes': 200}\n",
      "Accuracy: 0.8714285714285714\n",
      "Precision: 0.9019607843137255\n",
      "Recall: 0.92\n",
      "Specificity: 0.75\n",
      "f2-Score: 0.9055118110236221\n",
      "Time Train (s): 9.916729700002179\n",
      "Time Test (s): 0.0006582999994861893\n",
      "Time Total (s): 9.917388000001665\n",
      "\n",
      "\n"
     ]
    },
    {
     "name": "stderr",
     "output_type": "stream",
     "text": [
      "C:\\Users\\fadell\\AppData\\Roaming\\Python\\Python36\\site-packages\\sklearn\\neural_network\\_multilayer_perceptron.py:500: ConvergenceWarning: lbfgs failed to converge (status=1):\n",
      "STOP: TOTAL NO. of ITERATIONS REACHED LIMIT.\n",
      "\n",
      "Increase the number of iterations (max_iter) or scale the data as shown in:\n",
      "    https://scikit-learn.org/stable/modules/preprocessing.html\n",
      "  self.n_iter_ = _check_optimize_result(\"lbfgs\", opt_res, self.max_iter)\n"
     ]
    },
    {
     "name": "stdout",
     "output_type": "stream",
     "text": [
      "[[19  1]\n",
      " [ 4 46]]\n",
      "Rodada: # 49\n",
      "{'Activation': 'relu', 'Alpha': 0.1, 'Solver': 'lbfgs', 'hidden_layer_sizes': 100}\n",
      "Accuracy: 0.9285714285714286\n",
      "Precision: 0.9787234042553191\n",
      "Recall: 0.92\n",
      "Specificity: 0.95\n",
      "f2-Score: 0.9663865546218486\n",
      "Time Train (s): 7.978775999999925\n",
      "Time Test (s): 0.00038749999657738954\n",
      "Time Total (s): 7.979163499996503\n",
      "\n",
      "\n",
      "============================================== MLP =================================================\n",
      "=================================== TABELA DE MÉTRICAS DO MODELO ===================================\n",
      "\t Accuracy \t|\t Precision \t|\t Recall \t|\tSpecificity \t|\t fb-Score\n",
      "      0.9097 +- 0.0326       0.9415 +- 0.0339        0.9332 +- 0.0370       0.8510 +- 0.0935         0.9393 +- 0.0267\n",
      "====================================================================================================\n"
     ]
    },
    {
     "name": "stderr",
     "output_type": "stream",
     "text": [
      "C:\\Users\\fadell\\AppData\\Roaming\\Python\\Python36\\site-packages\\sklearn\\neural_network\\_multilayer_perceptron.py:500: ConvergenceWarning: lbfgs failed to converge (status=1):\n",
      "STOP: TOTAL NO. of ITERATIONS REACHED LIMIT.\n",
      "\n",
      "Increase the number of iterations (max_iter) or scale the data as shown in:\n",
      "    https://scikit-learn.org/stable/modules/preprocessing.html\n",
      "  self.n_iter_ = _check_optimize_result(\"lbfgs\", opt_res, self.max_iter)\n"
     ]
    }
   ],
   "source": [
    "# treinando o modelo\n",
    "dict_metricas = treinamento_teste(epocas, k_folds, exibir_matriz_confusao, exibir_metricas)\n",
    "tabelaMetricas('MLP',dict_metricas, rodadas, salvarResultados)"
   ]
  },
  {
   "cell_type": "code",
   "execution_count": null,
   "metadata": {},
   "outputs": [],
   "source": []
  }
 ],
 "metadata": {
  "kernelspec": {
   "display_name": "Python 3",
   "language": "python",
   "name": "python3"
  },
  "language_info": {
   "codemirror_mode": {
    "name": "ipython",
    "version": 3
   },
   "file_extension": ".py",
   "mimetype": "text/x-python",
   "name": "python",
   "nbconvert_exporter": "python",
   "pygments_lexer": "ipython3",
   "version": "3.6.4"
  }
 },
 "nbformat": 4,
 "nbformat_minor": 4
}
