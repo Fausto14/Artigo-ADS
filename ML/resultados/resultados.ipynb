{
 "cells": [
  {
   "cell_type": "code",
   "execution_count": 1,
   "metadata": {},
   "outputs": [],
   "source": [
    "import numpy as np\n",
    "import pandas as pd\n",
    "import matplotlib.pyplot as plt\n",
    "from numpy import load\n",
    "import time\n",
    "\n",
    "%matplotlib inline\n",
    "plt.rcParams.update({'figure.figsize':(5,4), 'figure.dpi':100})"
   ]
  },
  {
   "cell_type": "code",
   "execution_count": 23,
   "metadata": {},
   "outputs": [],
   "source": [
    "# load array\n",
    "array_accuracy = []\n",
    "array_f2 = []\n",
    "array_sensitividade = []\n",
    "array_time_total = []\n",
    "\n",
    "resultados_svm = load('resultados_svm.npy', allow_pickle=True)\n",
    "resultados_mlp = load('resultados_mlp.npy', allow_pickle=True)\n",
    "resultados_rl = load('resultados_rl.npy', allow_pickle=True)\n",
    "resultados_knn = load('resultados_knn.npy', allow_pickle=True)\n",
    "resultados_mlm = load('resultados_mlm.npy', allow_pickle=True)\n",
    "\n",
    "array_accuracy.append(resultados_svm.item().get('accuracy'))\n",
    "array_accuracy.append(resultados_mlp.item().get('accuracy'))\n",
    "array_accuracy.append(resultados_rl.item().get('accuracy'))\n",
    "array_accuracy.append(resultados_knn.item().get('accuracy'))\n",
    "array_accuracy.append(resultados_mlm.item().get('accuracy'))\n",
    "array_accuracy = np.asarray(array_accuracy).T\n",
    "#array_accuracy\n",
    "\n",
    "array_f2.append(resultados_svm.item().get('f2'))\n",
    "array_f2.append(resultados_mlp.item().get('f2'))\n",
    "array_f2.append(resultados_rl.item().get('f2'))\n",
    "array_f2.append(resultados_knn.item().get('f2'))\n",
    "array_f2.append(resultados_mlm.item().get('f2'))\n",
    "array_f2 = np.asarray(array_f2).T\n",
    "#array_f2\n",
    "\n",
    "array_sensitividade.append(resultados_svm.item().get('recall'))\n",
    "array_sensitividade.append(resultados_mlp.item().get('recall'))\n",
    "array_sensitividade.append(resultados_rl.item().get('recall'))\n",
    "array_sensitividade.append(resultados_knn.item().get('recall'))\n",
    "array_sensitividade.append(resultados_mlm.item().get('recall'))\n",
    "array_sensitividade = np.asarray(array_sensitividade).T\n",
    "#array_sensitividade\n",
    "\n",
    "array_time_total.append(resultados_svm.item().get('time_total'))\n",
    "array_time_total.append(resultados_mlp.item().get('time_total'))\n",
    "array_time_total.append(resultados_rl.item().get('time_total'))\n",
    "array_time_total.append(resultados_knn.item().get('time_total'))\n",
    "array_time_total.append(resultados_mlm.item().get('time_total'))\n",
    "array_time_total = np.asarray(array_time_total).T\n",
    "#array_time_total"
   ]
  },
  {
   "cell_type": "code",
   "execution_count": 24,
   "metadata": {},
   "outputs": [
    {
     "data": {
      "image/png": "[encoded data removed]",
      "text/plain": [
       "<Figure size 432x288 with 1 Axes>"
      ]
     },
     "metadata": {},
     "output_type": "display_data"
    }
   ],
   "source": [
    "df_accuracy = pd.DataFrame(array_accuracy*100,columns=['SVM','MLP', 'RL', 'KNN', 'MLM'])\n",
    "boxplot_accuracy = df_accuracy.boxplot(column=['SVM','MLP', 'RL', 'KNN', 'MLM'])\n",
    "plt.yticks(np.arange(80, 100, 2.0))\n",
    "plt.ylabel('Acurácia (%)')\n",
    "plt.savefig('acuracia.pdf')"
   ]
  },
  {
   "cell_type": "code",
   "execution_count": 25,
   "metadata": {},
   "outputs": [
    {
     "data": {
      "image/png": "[encoded data removed]",
      "text/plain": [
       "<Figure size 432x288 with 1 Axes>"
      ]
     },
     "metadata": {},
     "output_type": "display_data"
    }
   ],
   "source": [
    "df_f2 = pd.DataFrame(array_f2*100,columns=['SVM','MLP', 'RL',  'KNN', 'MLM'])\n",
    "boxplot_f2 = df_f2.boxplot(column=['SVM','MLP', 'RL', 'KNN', 'MLM'], grid = True)\n",
    "plt.yticks(np.arange(80, 100, 2.0))\n",
    "plt.ylabel('f(0.5)-score (%)')\n",
    "plt.savefig('f05_score.pdf')"
   ]
  },
  {
   "cell_type": "code",
   "execution_count": 26,
   "metadata": {},
   "outputs": [
    {
     "data": {
      "image/png": "[encoded data removed]",
      "text/plain": [
       "<Figure size 432x288 with 1 Axes>"
      ]
     },
     "metadata": {},
     "output_type": "display_data"
    }
   ],
   "source": [
    "df_sen = pd.DataFrame(array_sensitividade*100,columns=['SVM','MLP', 'RL',  'KNN', 'MLM'])\n",
    "boxplot_sen = df_sen.boxplot(column=['SVM','MLP', 'RL', 'KNN', 'MLM'], grid = True)\n",
    "plt.yticks(np.arange(80, 100, 2.0))\n",
    "plt.ylabel('Sensitividade (%)')\n",
    "plt.savefig('sensitividade.pdf')"
   ]
  },
  {
   "cell_type": "code",
   "execution_count": 15,
   "metadata": {},
   "outputs": [
    {
     "data": {
      "text/html": [
       "<div>\n",
       "<style scoped>\n",
       "    .dataframe tbody tr th:only-of-type {\n",
       "        vertical-align: middle;\n",
       "    }\n",
       "\n",
       "    .dataframe tbody tr th {\n",
       "        vertical-align: top;\n",
       "    }\n",
       "\n",
       "    .dataframe thead th {\n",
       "        text-align: right;\n",
       "    }\n",
       "</style>\n",
       "<table border=\"1\" class=\"dataframe\">\n",
       "  <thead>\n",
       "    <tr style=\"text-align: right;\">\n",
       "      <th></th>\n",
       "      <th>Acurácia</th>\n",
       "      <th>Precisão</th>\n",
       "      <th>Sensitividade</th>\n",
       "      <th>Especificidade</th>\n",
       "      <th>fb-score</th>\n",
       "      <th>Time_Total (s)</th>\n",
       "    </tr>\n",
       "  </thead>\n",
       "  <tbody>\n",
       "    <tr>\n",
       "      <th>SVM</th>\n",
       "      <td>92.51 $\\pm$ 3.08</td>\n",
       "      <td>93.46 $\\pm$ 3.59</td>\n",
       "      <td>96.44 $\\pm$ 2.75</td>\n",
       "      <td>82.70 $\\pm$ 10.11</td>\n",
       "      <td>94.00 $\\pm$ 2.85</td>\n",
       "      <td>0.63 $\\pm$ 0.08</td>\n",
       "    </tr>\n",
       "    <tr>\n",
       "      <th>MLP</th>\n",
       "      <td>90.97 $\\pm$ 3.26</td>\n",
       "      <td>94.15 $\\pm$ 3.39</td>\n",
       "      <td>93.32 $\\pm$ 3.70</td>\n",
       "      <td>85.10 $\\pm$ 9.35</td>\n",
       "      <td>93.93 $\\pm$ 2.67</td>\n",
       "      <td>8.75 $\\pm$ 1.20</td>\n",
       "    </tr>\n",
       "    <tr>\n",
       "      <th>RL</th>\n",
       "      <td>89.54 $\\pm$ 3.17</td>\n",
       "      <td>92.32 $\\pm$ 3.19</td>\n",
       "      <td>93.24 $\\pm$ 3.15</td>\n",
       "      <td>80.30 $\\pm$ 8.80</td>\n",
       "      <td>92.47 $\\pm$ 2.60</td>\n",
       "      <td>1.02 $\\pm$ 0.12</td>\n",
       "    </tr>\n",
       "    <tr>\n",
       "      <th>KNN</th>\n",
       "      <td>91.51 $\\pm$ 3.11</td>\n",
       "      <td>92.27 $\\pm$ 3.68</td>\n",
       "      <td>96.40 $\\pm$ 2.91</td>\n",
       "      <td>79.30 $\\pm$ 10.58</td>\n",
       "      <td>93.02 $\\pm$ 2.89</td>\n",
       "      <td>1.58 $\\pm$ 0.18</td>\n",
       "    </tr>\n",
       "    <tr>\n",
       "      <th>MLM</th>\n",
       "      <td>92.77 $\\pm$ 3.03</td>\n",
       "      <td>94.42 $\\pm$ 3.30</td>\n",
       "      <td>95.68 $\\pm$ 2.81</td>\n",
       "      <td>85.50 $\\pm$ 9.18</td>\n",
       "      <td>94.63 $\\pm$ 2.65</td>\n",
       "      <td>0.10 $\\pm$ 0.03</td>\n",
       "    </tr>\n",
       "  </tbody>\n",
       "</table>\n",
       "</div>"
      ],
      "text/plain": [
       "             Acurácia          Precisão     Sensitividade     Especificidade  \\\n",
       "SVM  92.51 $\\pm$ 3.08  93.46 $\\pm$ 3.59  96.44 $\\pm$ 2.75  82.70 $\\pm$ 10.11   \n",
       "MLP  90.97 $\\pm$ 3.26  94.15 $\\pm$ 3.39  93.32 $\\pm$ 3.70   85.10 $\\pm$ 9.35   \n",
       "RL   89.54 $\\pm$ 3.17  92.32 $\\pm$ 3.19  93.24 $\\pm$ 3.15   80.30 $\\pm$ 8.80   \n",
       "KNN  91.51 $\\pm$ 3.11  92.27 $\\pm$ 3.68  96.40 $\\pm$ 2.91  79.30 $\\pm$ 10.58   \n",
       "MLM  92.77 $\\pm$ 3.03  94.42 $\\pm$ 3.30  95.68 $\\pm$ 2.81   85.50 $\\pm$ 9.18   \n",
       "\n",
       "             fb-score   Time_Total (s)  \n",
       "SVM  94.00 $\\pm$ 2.85  0.63 $\\pm$ 0.08  \n",
       "MLP  93.93 $\\pm$ 2.67  8.75 $\\pm$ 1.20  \n",
       "RL   92.47 $\\pm$ 2.60  1.02 $\\pm$ 0.12  \n",
       "KNN  93.02 $\\pm$ 2.89  1.58 $\\pm$ 0.18  \n",
       "MLM  94.63 $\\pm$ 2.65  0.10 $\\pm$ 0.03  "
      ]
     },
     "execution_count": 15,
     "metadata": {},
     "output_type": "execute_result"
    }
   ],
   "source": [
    "metricas = {\n",
    "    'Acurácia': [\n",
    "        \"%.2f $\\pm$ %.2f\" % (np.mean(resultados_svm.item().get('accuracy'), axis=0)*100, np.std(resultados_svm.item().get('accuracy'), axis=0)*100),\n",
    "        \"%.2f $\\pm$ %.2f\" % (np.mean(resultados_mlp.item().get('accuracy'), axis=0)*100, np.std(resultados_mlp.item().get('accuracy'), axis=0)*100),\n",
    "        \"%.2f $\\pm$ %.2f\" % (np.mean(resultados_rl.item().get('accuracy'), axis=0)*100, np.std(resultados_rl.item().get('accuracy'), axis=0)*100),\n",
    "        \"%.2f $\\pm$ %.2f\" % (np.mean(resultados_knn.item().get('accuracy'), axis=0)*100, np.std(resultados_knn.item().get('accuracy'), axis=0)*100),\n",
    "        \"%.2f $\\pm$ %.2f\" % (np.mean(resultados_mlm.item().get('accuracy'), axis=0)*100, np.std(resultados_mlm.item().get('accuracy'), axis=0)*100)\n",
    "        \n",
    "    ],\n",
    "    'Precisão': [\n",
    "        \"%.2f $\\pm$ %.2f\" % (np.mean(resultados_svm.item().get('precision'), axis=0)*100, np.std(resultados_svm.item().get('precision'), axis=0)*100),\n",
    "        \"%.2f $\\pm$ %.2f\" % (np.mean(resultados_mlp.item().get('precision'), axis=0)*100, np.std(resultados_mlp.item().get('precision'), axis=0)*100),\n",
    "        \"%.2f $\\pm$ %.2f\" % (np.mean(resultados_rl.item().get('precision'), axis=0)*100, np.std(resultados_rl.item().get('precision'), axis=0)*100),\n",
    "        \"%.2f $\\pm$ %.2f\" % (np.mean(resultados_knn.item().get('precision'), axis=0)*100, np.std(resultados_knn.item().get('precision'), axis=0)*100),\n",
    "        \"%.2f $\\pm$ %.2f\" % (np.mean(resultados_mlm.item().get('precision'), axis=0)*100, np.std(resultados_mlm.item().get('precision'), axis=0)*100)\n",
    "    ],\n",
    "    'Sensitividade': [\n",
    "        \"%.2f $\\pm$ %.2f\" % (np.mean(resultados_svm.item().get('recall'), axis=0)*100, np.std(resultados_svm.item().get('recall'), axis=0)*100),\n",
    "        \"%.2f $\\pm$ %.2f\" % (np.mean(resultados_mlp.item().get('recall'), axis=0)*100, np.std(resultados_mlp.item().get('recall'), axis=0)*100),\n",
    "        \"%.2f $\\pm$ %.2f\" % (np.mean(resultados_rl.item().get('recall'), axis=0)*100, np.std(resultados_rl.item().get('recall'), axis=0)*100),\n",
    "        \"%.2f $\\pm$ %.2f\" % (np.mean(resultados_knn.item().get('recall'), axis=0)*100, np.std(resultados_knn.item().get('recall'), axis=0)*100),\n",
    "        \"%.2f $\\pm$ %.2f\" % (np.mean(resultados_mlm.item().get('recall'), axis=0)*100, np.std(resultados_mlm.item().get('recall'), axis=0)*100)\n",
    "        \n",
    "    ],\n",
    "    'Especificidade': [\n",
    "        \"%.2f $\\pm$ %.2f\" % (np.mean(resultados_svm.item().get('specificity'), axis=0)*100, np.std(resultados_svm.item().get('specificity'), axis=0)*100),\n",
    "        \"%.2f $\\pm$ %.2f\" % (np.mean(resultados_mlp.item().get('specificity'), axis=0)*100, np.std(resultados_mlp.item().get('specificity'), axis=0)*100),\n",
    "        \"%.2f $\\pm$ %.2f\" % (np.mean(resultados_rl.item().get('specificity'), axis=0)*100, np.std(resultados_rl.item().get('specificity'), axis=0)*100),\n",
    "        \"%.2f $\\pm$ %.2f\" % (np.mean(resultados_knn.item().get('specificity'), axis=0)*100, np.std(resultados_knn.item().get('specificity'), axis=0)*100),\n",
    "        \"%.2f $\\pm$ %.2f\" % (np.mean(resultados_mlm.item().get('specificity'), axis=0)*100, np.std(resultados_mlm.item().get('specificity'), axis=0)*100)\n",
    "        \n",
    "    ],\n",
    "    'fb-score': [\n",
    "        \"%.2f $\\pm$ %.2f\" % (np.mean(resultados_svm.item().get('f2'), axis=0)*100, np.std(resultados_svm.item().get('f2'), axis=0)*100),\n",
    "        \"%.2f $\\pm$ %.2f\" % (np.mean(resultados_mlp.item().get('f2'), axis=0)*100, np.std(resultados_mlp.item().get('f2'), axis=0)*100),\n",
    "        \"%.2f $\\pm$ %.2f\" % (np.mean(resultados_rl.item().get('f2'), axis=0)*100, np.std(resultados_rl.item().get('f2'), axis=0)*100),\n",
    "        \"%.2f $\\pm$ %.2f\" % (np.mean(resultados_knn.item().get('f2'), axis=0)*100, np.std(resultados_knn.item().get('f2'), axis=0)*100),\n",
    "        \"%.2f $\\pm$ %.2f\" % (np.mean(resultados_mlm.item().get('f2'), axis=0)*100, np.std(resultados_mlm.item().get('f2'), axis=0)*100)\n",
    "        \n",
    "    ],\n",
    "    'Time_Total (s)': [\n",
    "        \"%.2f $\\pm$ %.2f\" % (np.mean(resultados_svm.item().get('time_total'), axis=0), np.std(resultados_svm.item().get('time_total'), axis=0)),\n",
    "        \"%.2f $\\pm$ %.2f\" % (np.mean(resultados_mlp.item().get('time_total'), axis=0), np.std(resultados_mlp.item().get('time_total'), axis=0)),\n",
    "        \"%.2f $\\pm$ %.2f\" % (np.mean(resultados_rl.item().get('time_total'), axis=0), np.std(resultados_rl.item().get('time_total'), axis=0)),\n",
    "        \"%.2f $\\pm$ %.2f\" % (np.mean(resultados_knn.item().get('time_total'), axis=0), np.std(resultados_knn.item().get('time_total'), axis=0)),\n",
    "        \"%.2f $\\pm$ %.2f\" % (np.mean(resultados_mlm.item().get('time_total'), axis=0), np.std(resultados_mlm.item().get('time_total'), axis=0))\n",
    "        \n",
    "    ]\n",
    "}\n",
    "indices=['SVM', 'MLP', 'RL', 'KNN', 'MLM']\n",
    "df = pd.DataFrame(data=metricas, index = indices)\n",
    "df"
   ]
  },
  {
   "cell_type": "code",
   "execution_count": 16,
   "metadata": {},
   "outputs": [],
   "source": [
    "#plt.boxplot(df_accuracy.T, labels=['SVM','MLP', 'RL', 'GBDT', 'KNN'], boxprops=dict(color='black'))\n",
    "#plt.title('Desempenho dos Modelos');\n",
    "#plt.xlabel('Algoritmo')\n",
    "#plt.ylabel('Acurácia (%)')\n",
    "#plt.savefig('acuracia.pdf')"
   ]
  },
  {
   "cell_type": "code",
   "execution_count": 17,
   "metadata": {},
   "outputs": [],
   "source": [
    "#plt.boxplot(df_f2.T, labels=['SVM','MLP', 'RL', 'GBDT', 'KNN'], boxprops=dict(color='black'))\n",
    "#plt.title('Desempenho dos Modelos');\n",
    "#plt.xlabel('Algoritmo')\n",
    "#plt.ylabel('f(0.5(-score (%)')\n",
    "#plt.savefig('f05_score.pdf')"
   ]
  },
  {
   "cell_type": "markdown",
   "metadata": {},
   "source": [
    "# Matriz de confusão"
   ]
  },
  {
   "cell_type": "code",
   "execution_count": 18,
   "metadata": {},
   "outputs": [],
   "source": [
    "import os\n",
    "import sys\n",
    "sys.path.insert(0, os.path.abspath('../Util'))\n",
    "from dados import ProcessarDados\n",
    "procData = ProcessarDados(\"../dataset/bin_norm_10_features_m73_n4.csv\", sep = ',')"
   ]
  },
  {
   "cell_type": "markdown",
   "metadata": {},
   "source": [
    "# SVM"
   ]
  },
  {
   "cell_type": "code",
   "execution_count": 19,
   "metadata": {},
   "outputs": [
    {
     "data": {
      "image/png": "[encoded data removed]",
      "text/plain": [
       "<Figure size 432x288 with 2 Axes>"
      ]
     },
     "metadata": {},
     "output_type": "display_data"
    },
    {
     "name": "stdout",
     "output_type": "stream",
     "text": [
      "[[19  1]\n",
      " [ 0 50]]\n",
      "Métricas:\n",
      "\tAcurácia: 98.57\n",
      "\tPrecisão: 98.04\n",
      "\tSensitividade: 100.00\n",
      "\tEspecificidade: 95.00\n",
      "\tFb-score: 98.43\n",
      "Parametros:\n",
      "{'C': 20, 'Gamma': 0.04, 'Kernel': 'rbf'}\n",
      "\tTime Total(s): 0.57\n"
     ]
    }
   ],
   "source": [
    "# acessando o melhor SVM\n",
    "from sklearn import svm\n",
    "from sklearn import metrics\n",
    "from sklearn.metrics import confusion_matrix\n",
    "from sklearn.metrics import plot_confusion_matrix\n",
    "import pandas as pd\n",
    "import numpy as np\n",
    "from collections import Counter\n",
    "\n",
    "index_best_svm = np.argmax(resultados_svm.item().get('accuracy'))\n",
    "\n",
    "X_train, X_test, y_train, y_test = procData.holdout2(0.2, index_best_svm)\n",
    "\n",
    "best_svm_params = resultados_svm.item().get('params')[index_best_svm]\n",
    "SVM = svm.SVC(random_state = index_best_svm, C = best_svm_params['C'], gamma = best_svm_params['Gamma'], kernel = best_svm_params['Kernel'])\n",
    "SVM.fit(X_train, y_train)\n",
    "\n",
    "#testando o modelo\n",
    "y_pred = SVM.predict(X_test)\n",
    "plot_confusion_matrix(SVM, X_test, y_test, display_labels = ['Inferior', 'Superior'], cmap ='Blues')\n",
    "plt.show()\n",
    "\n",
    "cm  = confusion_matrix(y_test, y_pred)\n",
    "print(cm)\n",
    "\n",
    "# calculado as metricas\n",
    "accuracy = metrics.accuracy_score(y_test, y_pred)\n",
    "precision = metrics.precision_score(y_test, y_pred)\n",
    "recall = metrics.recall_score(y_test, y_pred)\n",
    "# f2-score\n",
    "# Fbeta = ((1 + beta^2) * Precision * Recall) / (beta^2 * Precision + Recall)\n",
    "beta = 0.5\n",
    "f2_score = (1 + beta**2) * (precision * recall) / (beta**2 * precision + recall)\n",
    "tn, fp, fn, tp = cm.ravel()\n",
    "specificity = tn / (tn+fp)\n",
    "\n",
    "print(\"Métricas:\")\n",
    "print(\"\\tAcurácia: %.2f\" % (accuracy*100))\n",
    "print(\"\\tPrecisão: %.2f\" % (precision*100))\n",
    "print(\"\\tSensitividade: %.2f\" % (recall*100))\n",
    "print(\"\\tEspecificidade: %.2f\" % (specificity*100))\n",
    "print(\"\\tFb-score: %.2f\" % (f2_score*100))\n",
    "print(\"Parametros:\")\n",
    "print(resultados_svm.item().get('params')[index_best_svm])\n",
    "print(\"\\tTime Total(s): %.2f\" % (resultados_svm.item().get('time_total')[index_best_svm]))"
   ]
  },
  {
   "cell_type": "markdown",
   "metadata": {},
   "source": [
    "# MLP"
   ]
  },
  {
   "cell_type": "code",
   "execution_count": 21,
   "metadata": {},
   "outputs": [
    {
     "data": {
      "image/png": "[encoded data removed]",
      "text/plain": [
       "<Figure size 432x288 with 2 Axes>"
      ]
     },
     "metadata": {},
     "output_type": "display_data"
    },
    {
     "name": "stdout",
     "output_type": "stream",
     "text": [
      "[[19  1]\n",
      " [ 0 50]]\n",
      "Métricas:\n",
      "\tAcurácia: 98.57\n",
      "\tPrecisão: 98.04\n",
      "\tSensitividade: 100.00\n",
      "\tEspecificidade: 95.00\n",
      "\tFb-score: 98.43\n",
      "Parametros:\n",
      "{'Activation': 'relu', 'Alpha': 0.1, 'Solver': 'lbfgs', 'hidden_layer_sizes': 150}\n",
      "\tTime Total(s): 8.58\n"
     ]
    }
   ],
   "source": [
    "# acessando o melhor MLP\n",
    "from sklearn.neural_network import MLPClassifier\n",
    "from sklearn import metrics\n",
    "from sklearn.metrics import confusion_matrix\n",
    "from sklearn.metrics import plot_confusion_matrix\n",
    "import pandas as pd\n",
    "import numpy as np\n",
    "from collections import Counter\n",
    "\n",
    "index_best_mlp = np.argmax(resultados_mlp.item().get('accuracy'))\n",
    "\n",
    "X_train, X_test, y_train, y_test = procData.holdout2(0.2, index_best_mlp)\n",
    "\n",
    "best_mlp_params = resultados_mlp.item().get('params')[index_best_mlp]\n",
    "MLP = MLPClassifier(random_state = index_best_mlp, max_iter = 1000, activation = best_mlp_params['Activation'], alpha = best_mlp_params['Alpha'], solver = best_mlp_params['Solver'], hidden_layer_sizes = best_mlp_params['hidden_layer_sizes'])\n",
    "MLP.fit(X_train, y_train)\n",
    "\n",
    "#testando o modelo\n",
    "y_pred = MLP.predict(X_test)\n",
    "plot_confusion_matrix(MLP, X_test, y_test, display_labels = ['Sem Faixa', 'Com Faixa'], cmap ='Blues')\n",
    "plt.show()\n",
    "\n",
    "cm  = confusion_matrix(y_test, y_pred)\n",
    "print(cm)\n",
    "\n",
    "# calculado as metricas\n",
    "accuracy = metrics.accuracy_score(y_test, y_pred)\n",
    "precision = metrics.precision_score(y_test, y_pred)\n",
    "recall = metrics.recall_score(y_test, y_pred)\n",
    "# f2-score\n",
    "# Fbeta = ((1 + beta^2) * Precision * Recall) / (beta^2 * Precision + Recall)\n",
    "beta = 0.5\n",
    "f2_score = (1 + beta**2) * (precision * recall) / (beta**2 * precision + recall)\n",
    "tn, fp, fn, tp = cm.ravel()\n",
    "specificity = tn / (tn+fp)\n",
    "\n",
    "print(\"Métricas:\")\n",
    "print(\"\\tAcurácia: %.2f\" % (accuracy*100))\n",
    "print(\"\\tPrecisão: %.2f\" % (precision*100))\n",
    "print(\"\\tSensitividade: %.2f\" % (recall*100))\n",
    "print(\"\\tEspecificidade: %.2f\" % (specificity*100))\n",
    "print(\"\\tFb-score: %.2f\" % (f2_score*100))\n",
    "print(\"Parametros:\")\n",
    "print(resultados_mlp.item().get('params')[index_best_mlp])\n",
    "print(\"\\tTime Total(s): %.2f\" % (resultados_mlp.item().get('time_total')[index_best_mlp]))"
   ]
  },
  {
   "cell_type": "markdown",
   "metadata": {},
   "source": [
    "# RL - Manual"
   ]
  },
  {
   "cell_type": "code",
   "execution_count": 23,
   "metadata": {},
   "outputs": [
    {
     "name": "stdout",
     "output_type": "stream",
     "text": [
      "[[19  1]\n",
      " [ 2 48]]\n",
      "Métricas:\n",
      "\tAcurácia: 95.71\n",
      "\tPrecisão: 97.96\n",
      "\tSensitividade: 96.00\n",
      "\tEspecificidade: 95.00\n",
      "\tFb-score: 97.56\n",
      "Parametros:\n",
      "{'alpha': 1.0}\n",
      "\tTime Total(s): 1.05\n"
     ]
    },
    {
     "data": {
      "image/png": "[encoded data removed]",
      "text/plain": [
       "<Figure size 432x288 with 1 Axes>"
      ]
     },
     "metadata": {},
     "output_type": "display_data"
    }
   ],
   "source": [
    "#IMPORTAR BIBLIOTECAS UTILIZADAS\n",
    "\n",
    "import numpy as np\n",
    "import pandas as pd\n",
    "import random\n",
    "from sklearn import metrics\n",
    "from sklearn.metrics import confusion_matrix\n",
    "\n",
    "#DEFINIR FUNCAO LOGISTICA (SIGMOID) PARA PREVER A PROBABILIDADE \n",
    "def sigmoid(w,X):\n",
    "    z = np.dot(X,w)\n",
    "    return 1 / (1 + np.exp(-z))\n",
    "\n",
    "#DEFINIR FUNCAO PARA CLASSIFICAR\n",
    "def classificar(y, limiar=0.5):\n",
    "    return (y > limiar)*1\n",
    "\n",
    "#DEFINIR FUNCAO CUSTO UTILIZANDO ENTROPIA CRUZADA\n",
    "def entropiaCruzada(previsto,y):\n",
    "    return (-y * np.log(previsto) - (1 - y) * np.log(1 - previsto)).mean()\n",
    "\n",
    "#DEFINIR FUNCAO GRADIENTE DESCENDENTE PARA ATUALIZAR OS PARAMÊTROS w\n",
    "def gradienteDescendente(w, X, y, alpha):\n",
    "    previsto = sigmoid(w,X)\n",
    "    erro = previsto - y\n",
    "    gradiente = np.dot(X.T, erro) / len(X)\n",
    "    w -= alpha*gradiente\n",
    "\n",
    "index_best_rl = np.argmax(resultados_rl.item().get('accuracy'))\n",
    "\n",
    "X_treino, X_teste, y_treino, y_teste = procData.holdout2(0.2, index_best_rl)\n",
    "\n",
    "best_rl_params = resultados_rl.item().get('params')[index_best_rl]\n",
    "\n",
    "#ALTERANDO DIMENSÃO DE Y PARA D=1\n",
    "#y_treino = y_treino.reshape(480,)\n",
    "#y_teste = y_teste.reshape(120,)\n",
    "\n",
    "#ADICIONAR ATRIBUTOS IGUAIS A 1 EM X0\n",
    "X_treino = np.c_[np.ones(X_treino.shape[0]), X_treino]\n",
    "X_teste = np.c_[np.ones(X_teste.shape[0]), X_teste]\n",
    "\n",
    "#INICIALIZAR W (THETA) DE FORMA RANDOMICA e OTIMIZAR PARÂMETROS \n",
    "w = np.random.rand(X_treino.shape[1])\n",
    "epoch = 5000\n",
    "custo = np.zeros(epoch)\n",
    "for i in range(epoch):\n",
    "    custo[i] = entropiaCruzada(sigmoid(w,X_treino),y_treino)\n",
    "    gradienteDescendente(w,X_treino,y_treino,0.1)\n",
    "    \n",
    "\n",
    "fig, ax = plt.subplots()  \n",
    "ax.plot(np.arange(epoch), custo, 'r')  \n",
    "ax.set_xlabel('Iterações')  \n",
    "ax.set_ylabel('Custo')  \n",
    "ax.set_title('Erro vs. Epoch')\n",
    "\n",
    "#testando o modelo\n",
    "y_pred = classificar(sigmoid(w, X_teste))\n",
    "cm  = confusion_matrix(y_teste, y_pred)\n",
    "print(cm)\n",
    "\n",
    "# calculado as metricas\n",
    "accuracy = metrics.accuracy_score(y_teste, y_pred)\n",
    "precision = metrics.precision_score(y_teste, y_pred)\n",
    "recall = metrics.recall_score(y_teste, y_pred)\n",
    "# f2-score\n",
    "# Fbeta = ((1 + beta^2) * Precision * Recall) / (beta^2 * Precision + Recall)\n",
    "beta = 0.5\n",
    "f2_score = (1 + beta**2) * (precision * recall) / (beta**2 * precision + recall)\n",
    "tn, fp, fn, tp = cm.ravel()\n",
    "specificity = tn / (tn+fp)\n",
    "\n",
    "print(\"Métricas:\")\n",
    "print(\"\\tAcurácia: %.2f\" % (accuracy*100))\n",
    "print(\"\\tPrecisão: %.2f\" % (precision*100))\n",
    "print(\"\\tSensitividade: %.2f\" % (recall*100))\n",
    "print(\"\\tEspecificidade: %.2f\" % (specificity*100))\n",
    "print(\"\\tFb-score: %.2f\" % (f2_score*100))\n",
    "print(\"Parametros:\")\n",
    "print(resultados_rl.item().get('params')[index_best_rl])\n",
    "print(\"\\tTime Total(s): %.2f\" % (resultados_rl.item().get('time_total')[index_best_rl]))\n"
   ]
  },
  {
   "cell_type": "markdown",
   "metadata": {},
   "source": [
    "# RL - LIB"
   ]
  },
  {
   "cell_type": "code",
   "execution_count": 24,
   "metadata": {
    "scrolled": true
   },
   "outputs": [
    {
     "data": {
      "image/png": "[encoded data removed]",
      "text/plain": [
       "<Figure size 432x288 with 2 Axes>"
      ]
     },
     "metadata": {},
     "output_type": "display_data"
    },
    {
     "name": "stdout",
     "output_type": "stream",
     "text": [
      "[[19  1]\n",
      " [ 1 49]]\n",
      "Métricas:\n",
      "\tAcurácia: 97.14\n",
      "\tPrecisão: 98.00\n",
      "\tSensitividade: 98.00\n",
      "\tEspecificidade: 95.00\n",
      "\tFb-score: 98.00\n",
      "Parametros:\n",
      "{'alpha': 1.0}\n",
      "\tTime Total(s): 1.05\n"
     ]
    }
   ],
   "source": [
    "# acessando o melhor RL\n",
    "from sklearn.linear_model import LogisticRegression\n",
    "from sklearn.model_selection import GridSearchCV\n",
    "from sklearn import metrics\n",
    "from sklearn.metrics import confusion_matrix\n",
    "from sklearn.metrics import plot_confusion_matrix\n",
    "import pandas as pd\n",
    "import numpy as np\n",
    "from collections import Counter\n",
    "#!python -m pip install --user scikit-mlm\n",
    "\n",
    "from skmlm import NN_MLM, MLMC\n",
    "\n",
    "index_best_rl = np.argmax(resultados_rl.item().get('accuracy'))\n",
    "\n",
    "X_train, X_test, y_train, y_test = procData.holdout2(0.2, index_best_rl)\n",
    "\n",
    "best_rl_params = resultados_rl.item().get('params')[index_best_rl]\n",
    "RL = LogisticRegression(random_state = index_best_rl, tol = best_rl_params['alpha'])\n",
    "RL.fit(X_train, y_train)\n",
    "\n",
    "#testando o modelo\n",
    "y_pred = RL.predict(X_test)\n",
    "plot_confusion_matrix(RL, X_test, y_test, display_labels = ['Sem Faixa', 'Com Faixa'], cmap ='Blues')\n",
    "plt.show()\n",
    "\n",
    "cm  = confusion_matrix(y_test, y_pred)\n",
    "print(cm)\n",
    "\n",
    "# calculado as metricas\n",
    "accuracy = metrics.accuracy_score(y_test, y_pred)\n",
    "precision = metrics.precision_score(y_test, y_pred)\n",
    "recall = metrics.recall_score(y_test, y_pred)\n",
    "# f2-score\n",
    "# Fbeta = ((1 + beta^2) * Precision * Recall) / (beta^2 * Precision + Recall)\n",
    "beta = 0.5\n",
    "f2_score = (1 + beta**2) * (precision * recall) / (beta**2 * precision + recall)\n",
    "tn, fp, fn, tp = cm.ravel()\n",
    "specificity = tn / (tn+fp)\n",
    "\n",
    "print(\"Métricas:\")\n",
    "print(\"\\tAcurácia: %.2f\" % (accuracy*100))\n",
    "print(\"\\tPrecisão: %.2f\" % (precision*100))\n",
    "print(\"\\tSensitividade: %.2f\" % (recall*100))\n",
    "print(\"\\tEspecificidade: %.2f\" % (specificity*100))\n",
    "print(\"\\tFb-score: %.2f\" % (f2_score*100))\n",
    "print(\"Parametros:\")\n",
    "print(resultados_rl.item().get('params')[index_best_rl])\n",
    "print(\"\\tTime Total(s): %.2f\" % (resultados_rl.item().get('time_total')[index_best_rl]))\n"
   ]
  },
  {
   "cell_type": "markdown",
   "metadata": {},
   "source": [
    "# KNN"
   ]
  },
  {
   "cell_type": "code",
   "execution_count": 25,
   "metadata": {},
   "outputs": [
    {
     "data": {
      "image/png": "[encoded data removed]",
      "text/plain": [
       "<Figure size 432x288 with 2 Axes>"
      ]
     },
     "metadata": {},
     "output_type": "display_data"
    },
    {
     "name": "stdout",
     "output_type": "stream",
     "text": [
      "[[19  1]\n",
      " [ 0 50]]\n",
      "Métricas:\n",
      "\tAcurácia: 98.57\n",
      "\tPrecisão: 98.04\n",
      "\tSensitividade: 100.00\n",
      "\tEspecificidade: 95.00\n",
      "\tFb-score: 98.43\n",
      "Parametros:\n",
      "{'n_neighbors': 18, 'p': 2}\n",
      "\tTime Total(s): 1.65\n"
     ]
    }
   ],
   "source": [
    "# acessando o melhor KNN\n",
    "from sklearn.neighbors import KNeighborsClassifier\n",
    "from sklearn import metrics\n",
    "from sklearn.metrics import confusion_matrix\n",
    "from sklearn.metrics import plot_confusion_matrix\n",
    "import pandas as pd\n",
    "import numpy as np\n",
    "from collections import Counter\n",
    "\n",
    "index_best_knn = np.argmax(resultados_knn.item().get('accuracy'))\n",
    "\n",
    "X_train, X_test, y_train, y_test = procData.holdout2(0.2, index_best_knn)\n",
    "\n",
    "best_knn_params = resultados_knn.item().get('params')[index_best_knn]\n",
    "KNN = KNeighborsClassifier(n_neighbors=best_knn_params['n_neighbors'], p=best_knn_params['p'], metric='minkowski')\n",
    "KNN.fit(X_train, y_train)\n",
    "\n",
    "#testando o modelo\n",
    "y_pred = KNN.predict(X_test)\n",
    "plot_confusion_matrix(KNN, X_test, y_test, display_labels = ['Sem Faixa', 'Com Faixa'], cmap ='Blues')\n",
    "plt.show()\n",
    "\n",
    "cm  = confusion_matrix(y_test, y_pred)\n",
    "print(cm)\n",
    "\n",
    "# calculado as metricas\n",
    "accuracy = metrics.accuracy_score(y_test, y_pred)\n",
    "precision = metrics.precision_score(y_test, y_pred)\n",
    "recall = metrics.recall_score(y_test, y_pred)\n",
    "# f2-score\n",
    "# Fbeta = ((1 + beta^2) * Precision * Recall) / (beta^2 * Precision + Recall)\n",
    "beta = 0.5\n",
    "f2_score = (1 + beta**2) * (precision * recall) / (beta**2 * precision + recall)\n",
    "tn, fp, fn, tp = cm.ravel()\n",
    "specificity = tn / (tn+fp)\n",
    "\n",
    "print(\"Métricas:\")\n",
    "print(\"\\tAcurácia: %.2f\" % (accuracy*100))\n",
    "print(\"\\tPrecisão: %.2f\" % (precision*100))\n",
    "print(\"\\tSensitividade: %.2f\" % (recall*100))\n",
    "print(\"\\tEspecificidade: %.2f\" % (specificity*100))\n",
    "print(\"\\tFb-score: %.2f\" % (f2_score*100))\n",
    "print(\"Parametros:\")\n",
    "print(resultados_knn.item().get('params')[index_best_knn])\n",
    "print(\"\\tTime Total(s): %.2f\" % (resultados_knn.item().get('time_total')[index_best_knn]))"
   ]
  },
  {
   "cell_type": "markdown",
   "metadata": {},
   "source": [
    "# MLM"
   ]
  },
  {
   "cell_type": "code",
   "execution_count": 26,
   "metadata": {},
   "outputs": [
    {
     "name": "stdout",
     "output_type": "stream",
     "text": [
      "[[19  1]\n",
      " [ 0 50]]\n",
      "Métricas:\n",
      "\tAcurácia: 98.57\n",
      "\tPrecisão: 98.04\n",
      "\tSensitividade: 100.00\n",
      "\tEspecificidade: 95.00\n",
      "\tFb-score: 98.43\n",
      "Parametros:\n",
      "{'rp_number': 196}\n",
      "\tTime Total(s): 0.08\n"
     ]
    }
   ],
   "source": [
    "# acessando o melhor MLM\n",
    "from sklearn.model_selection import GridSearchCV\n",
    "from sklearn import metrics\n",
    "from sklearn.metrics import confusion_matrix\n",
    "from sklearn.metrics import plot_confusion_matrix\n",
    "import pandas as pd\n",
    "import numpy as np\n",
    "from collections import Counter\n",
    "#!python -m pip install --user scikit-mlm\n",
    "\n",
    "from skmlm import NN_MLM, MLMC\n",
    "\n",
    "index_best_mlm = np.argmax(resultados_mlm.item().get('accuracy'))\n",
    "\n",
    "X_train, X_test, y_train, y_test = procData.holdout2(0.2, index_best_mlm)\n",
    "\n",
    "best_mlm_params = resultados_mlm.item().get('params')[index_best_mlm]\n",
    "MLM = NN_MLM(rp_number = best_mlm_params['rp_number'], random_state=index_best_mlm)\n",
    "\n",
    "start_time_total = time.clock()\n",
    "MLM.fit(X_train, y_train)\n",
    "\n",
    "#testando o modelo\n",
    "y_pred = MLM.predict(X_test)\n",
    "time_total = time.clock() - start_time_total\n",
    "cm  = confusion_matrix(y_test, y_pred)\n",
    "print(cm)\n",
    "\n",
    "# calculado as metricas\n",
    "accuracy = metrics.accuracy_score(y_test, y_pred)\n",
    "precision = metrics.precision_score(y_test, y_pred)\n",
    "recall = metrics.recall_score(y_test, y_pred)\n",
    "# f2-score\n",
    "# Fbeta = ((1 + beta^2) * Precision * Recall) / (beta^2 * Precision + Recall)\n",
    "beta = 0.5\n",
    "f2_score = (1 + beta**2) * (precision * recall) / (beta**2 * precision + recall)\n",
    "tn, fp, fn, tp = cm.ravel()\n",
    "specificity = tn / (tn+fp)\n",
    "\n",
    "print(\"Métricas:\")\n",
    "print(\"\\tAcurácia: %.2f\" % (accuracy*100))\n",
    "print(\"\\tPrecisão: %.2f\" % (precision*100))\n",
    "print(\"\\tSensitividade: %.2f\" % (recall*100))\n",
    "print(\"\\tEspecificidade: %.2f\" % (specificity*100))\n",
    "print(\"\\tFb-score: %.2f\" % (f2_score*100))\n",
    "print(\"Parametros:\")\n",
    "print(resultados_mlm.item().get('params')[index_best_mlm])\n",
    "print(\"\\tTime Total(s): %.2f\" % (resultados_mlm.item().get('time_total')[index_best_mlm]))"
   ]
  },
  {
   "cell_type": "code",
   "execution_count": null,
   "metadata": {},
   "outputs": [],
   "source": []
  },
  {
   "cell_type": "code",
   "execution_count": null,
   "metadata": {},
   "outputs": [],
   "source": []
  }
 ],
 "metadata": {
  "kernelspec": {
   "display_name": "Python 3",
   "language": "python",
   "name": "python3"
  },
  "language_info": {
   "codemirror_mode": {
    "name": "ipython",
    "version": 3
   },
   "file_extension": ".py",
   "mimetype": "text/x-python",
   "name": "python",
   "nbconvert_exporter": "python",
   "pygments_lexer": "ipython3",
   "version": "3.6.4"
  }
 },
 "nbformat": 4,
 "nbformat_minor": 4
}
